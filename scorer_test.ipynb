{
 "cells": [
  {
   "cell_type": "code",
   "execution_count": 1,
   "id": "ac4053d9-acc2-4444-8594-43d6e5c47a0e",
   "metadata": {
    "scrolled": true
   },
   "outputs": [
    {
     "ename": "AttributeError",
     "evalue": "'AnyType' object has no attribute 'is_subseteq_PyClass'",
     "output_type": "error",
     "traceback": [
      "\u001b[0;31m---------------------------------------------------------------------------\u001b[0m",
      "\u001b[0;31mAttributeError\u001b[0m                            Traceback (most recent call last)",
      "Cell \u001b[0;32mIn[1], line 4\u001b[0m\n\u001b[1;32m      2\u001b[0m \u001b[38;5;28;01mfrom\u001b[39;00m \u001b[38;5;21;01mbloqade\u001b[39;00m \u001b[38;5;28;01mimport\u001b[39;00m move\n\u001b[1;32m      3\u001b[0m \u001b[38;5;28;01mfrom\u001b[39;00m \u001b[38;5;21;01mhelper_functions\u001b[39;00m \u001b[38;5;28;01mimport\u001b[39;00m \u001b[38;5;241m*\u001b[39m\n\u001b[0;32m----> 4\u001b[0m \u001b[38;5;28;01mfrom\u001b[39;00m \u001b[38;5;21;01manswers\u001b[39;00m \u001b[38;5;28;01mimport\u001b[39;00m \u001b[38;5;241m*\u001b[39m\n",
      "File \u001b[0;32m~/2025-QuEra/answers.py:4\u001b[0m\n\u001b[1;32m      1\u001b[0m \u001b[38;5;28;01mfrom\u001b[39;00m \u001b[38;5;21;01mbloqade\u001b[39;00m \u001b[38;5;28;01mimport\u001b[39;00m move\n\u001b[1;32m      2\u001b[0m \u001b[38;5;28;01mfrom\u001b[39;00m \u001b[38;5;21;01mhelper_functions\u001b[39;00m \u001b[38;5;28;01mimport\u001b[39;00m \u001b[38;5;241m*\u001b[39m\n\u001b[0;32m----> 4\u001b[0m \u001b[38;5;129;43m@move\u001b[39;49m\u001b[38;5;241;43m.\u001b[39;49m\u001b[43mvmove\u001b[49m\n\u001b[1;32m      5\u001b[0m \u001b[38;5;28;43;01mdef\u001b[39;49;00m\u001b[43m \u001b[49m\u001b[38;5;21;43manswer_1a\u001b[39;49m\u001b[43m(\u001b[49m\u001b[43m)\u001b[49m\u001b[43m:\u001b[49m\n\u001b[1;32m      6\u001b[0m \u001b[43m    \u001b[49m\u001b[43mq\u001b[49m\u001b[43m \u001b[49m\u001b[38;5;241;43m=\u001b[39;49m\u001b[43m \u001b[49m\u001b[43mmove\u001b[49m\u001b[38;5;241;43m.\u001b[39;49m\u001b[43mNewQubitRegister\u001b[49m\u001b[43m(\u001b[49m\u001b[38;5;241;43m3\u001b[39;49m\u001b[43m)\u001b[49m\n\u001b[1;32m      8\u001b[0m \u001b[43m    \u001b[49m\u001b[43mstate\u001b[49m\u001b[43m \u001b[49m\u001b[38;5;241;43m=\u001b[39;49m\u001b[43m \u001b[49m\u001b[43mmove\u001b[49m\u001b[38;5;241;43m.\u001b[39;49m\u001b[43mInit\u001b[49m\u001b[43m(\u001b[49m\u001b[43mqubits\u001b[49m\u001b[38;5;241;43m=\u001b[39;49m\u001b[43m[\u001b[49m\u001b[43mq\u001b[49m\u001b[43m[\u001b[49m\u001b[38;5;241;43m0\u001b[39;49m\u001b[43m]\u001b[49m\u001b[43m,\u001b[49m\u001b[43mq\u001b[49m\u001b[43m[\u001b[49m\u001b[38;5;241;43m1\u001b[39;49m\u001b[43m]\u001b[49m\u001b[43m,\u001b[49m\u001b[43mq\u001b[49m\u001b[43m[\u001b[49m\u001b[38;5;241;43m2\u001b[39;49m\u001b[43m]\u001b[49m\u001b[43m]\u001b[49m\u001b[43m,\u001b[49m\u001b[43m \u001b[49m\u001b[43mindices\u001b[49m\u001b[38;5;241;43m=\u001b[39;49m\u001b[43m[\u001b[49m\u001b[38;5;241;43m0\u001b[39;49m\u001b[43m,\u001b[49m\u001b[38;5;241;43m1\u001b[39;49m\u001b[43m,\u001b[49m\u001b[38;5;241;43m2\u001b[39;49m\u001b[43m]\u001b[49m\u001b[43m)\u001b[49m\n",
      "File \u001b[0;32m~/.qbraid/environments/querai_uzkoe7/pyenv/lib/python3.11/site-packages/kirin/ir/group.py:186\u001b[0m, in \u001b[0;36mDialectGroup.__call__\u001b[0;34m(self, py_func, *args, **options)\u001b[0m\n\u001b[1;32m    183\u001b[0m     \u001b[38;5;28;01mreturn\u001b[39;00m mt\n\u001b[1;32m    185\u001b[0m \u001b[38;5;28;01mif\u001b[39;00m py_func \u001b[38;5;129;01mis\u001b[39;00m \u001b[38;5;129;01mnot\u001b[39;00m \u001b[38;5;28;01mNone\u001b[39;00m:\n\u001b[0;32m--> 186\u001b[0m     \u001b[38;5;28;01mreturn\u001b[39;00m \u001b[43mwrapper\u001b[49m\u001b[43m(\u001b[49m\u001b[43mpy_func\u001b[49m\u001b[43m)\u001b[49m\n\u001b[1;32m    187\u001b[0m \u001b[38;5;28;01mreturn\u001b[39;00m wrapper\n",
      "File \u001b[0;32m~/.qbraid/environments/querai_uzkoe7/pyenv/lib/python3.11/site-packages/kirin/ir/group.py:182\u001b[0m, in \u001b[0;36mDialectGroup.__call__.<locals>.wrapper\u001b[0;34m(py_func)\u001b[0m\n\u001b[1;32m    179\u001b[0m     mt\u001b[38;5;241m.\u001b[39m\u001b[38;5;18m__doc__\u001b[39m \u001b[38;5;241m=\u001b[39m doc\n\u001b[1;32m    181\u001b[0m \u001b[38;5;28;01mif\u001b[39;00m \u001b[38;5;28mself\u001b[39m\u001b[38;5;241m.\u001b[39mrun_pass \u001b[38;5;129;01mis\u001b[39;00m \u001b[38;5;129;01mnot\u001b[39;00m \u001b[38;5;28;01mNone\u001b[39;00m:\n\u001b[0;32m--> 182\u001b[0m     \u001b[38;5;28;43mself\u001b[39;49m\u001b[38;5;241;43m.\u001b[39;49m\u001b[43mrun_pass\u001b[49m\u001b[43m(\u001b[49m\u001b[43mmt\u001b[49m\u001b[43m,\u001b[49m\u001b[43m \u001b[49m\u001b[38;5;241;43m*\u001b[39;49m\u001b[43margs\u001b[49m\u001b[43m,\u001b[49m\u001b[43m \u001b[49m\u001b[38;5;241;43m*\u001b[39;49m\u001b[38;5;241;43m*\u001b[39;49m\u001b[43moptions\u001b[49m\u001b[43m)\u001b[49m\n\u001b[1;32m    183\u001b[0m \u001b[38;5;28;01mreturn\u001b[39;00m mt\n",
      "File \u001b[0;32m~/.qbraid/environments/querai_uzkoe7/pyenv/lib/python3.11/site-packages/bloqade/move/groups.py:35\u001b[0m, in \u001b[0;36mvmove.<locals>.run_pass\u001b[0;34m(mt, verify, typeinfer, fold)\u001b[0m\n\u001b[1;32m     32\u001b[0m     mt\u001b[38;5;241m.\u001b[39mverify()\n\u001b[1;32m     34\u001b[0m ilist_desugar(mt)\n\u001b[0;32m---> 35\u001b[0m \u001b[43mmove_desugar\u001b[49m\u001b[43m(\u001b[49m\u001b[43mmt\u001b[49m\u001b[43m)\u001b[49m\n\u001b[1;32m     37\u001b[0m \u001b[38;5;28;01mif\u001b[39;00m fold:\n\u001b[1;32m     38\u001b[0m     fold_pass(mt)\n",
      "File \u001b[0;32m~/.qbraid/environments/querai_uzkoe7/pyenv/lib/python3.11/site-packages/kirin/passes/abc.py:29\u001b[0m, in \u001b[0;36mPass.__call__\u001b[0;34m(self, mt)\u001b[0m\n\u001b[1;32m     28\u001b[0m \u001b[38;5;28;01mdef\u001b[39;00m \u001b[38;5;21m__call__\u001b[39m(\u001b[38;5;28mself\u001b[39m, mt: Method) \u001b[38;5;241m-\u001b[39m\u001b[38;5;241m>\u001b[39m RewriteResult:\n\u001b[0;32m---> 29\u001b[0m     result \u001b[38;5;241m=\u001b[39m \u001b[38;5;28;43mself\u001b[39;49m\u001b[38;5;241;43m.\u001b[39;49m\u001b[43munsafe_run\u001b[49m\u001b[43m(\u001b[49m\u001b[43mmt\u001b[49m\u001b[43m)\u001b[49m\n\u001b[1;32m     30\u001b[0m     mt\u001b[38;5;241m.\u001b[39mcode\u001b[38;5;241m.\u001b[39mverify()\n\u001b[1;32m     31\u001b[0m     \u001b[38;5;28;01mreturn\u001b[39;00m result\n",
      "File \u001b[0;32m~/.qbraid/environments/querai_uzkoe7/pyenv/lib/python3.11/site-packages/bloqade/move/rewrite.py:69\u001b[0m, in \u001b[0;36mMoveDesugar.unsafe_run\u001b[0;34m(self, mt, **kwargs)\u001b[0m\n\u001b[1;32m     68\u001b[0m \u001b[38;5;28;01mdef\u001b[39;00m \u001b[38;5;21munsafe_run\u001b[39m(\u001b[38;5;28mself\u001b[39m, mt: ir\u001b[38;5;241m.\u001b[39mMethod, \u001b[38;5;241m*\u001b[39m\u001b[38;5;241m*\u001b[39mkwargs):\n\u001b[0;32m---> 69\u001b[0m     \u001b[43mrewrite\u001b[49m\u001b[38;5;241;43m.\u001b[39;49m\u001b[43mWalk\u001b[49m\u001b[43m(\u001b[49m\u001b[43mMoveDesugarGetItem\u001b[49m\u001b[43m(\u001b[49m\u001b[43m)\u001b[49m\u001b[43m)\u001b[49m\u001b[38;5;241;43m.\u001b[39;49m\u001b[43mrewrite\u001b[49m\u001b[43m(\u001b[49m\u001b[43mmt\u001b[49m\u001b[38;5;241;43m.\u001b[39;49m\u001b[43mcode\u001b[49m\u001b[43m)\u001b[49m\n\u001b[1;32m     70\u001b[0m     rewrite\u001b[38;5;241m.\u001b[39mWalk(MoveDesugarSetitem())\u001b[38;5;241m.\u001b[39mrewrite(mt\u001b[38;5;241m.\u001b[39mcode)\n\u001b[1;32m     72\u001b[0m     \u001b[38;5;28;01mreturn\u001b[39;00m mt\n",
      "File \u001b[0;32m~/.qbraid/environments/querai_uzkoe7/pyenv/lib/python3.11/site-packages/kirin/rewrite/walk.py:37\u001b[0m, in \u001b[0;36mWalk.rewrite\u001b[0;34m(self, node)\u001b[0m\n\u001b[1;32m     35\u001b[0m subnode \u001b[38;5;241m=\u001b[39m \u001b[38;5;28mself\u001b[39m\u001b[38;5;241m.\u001b[39mworklist\u001b[38;5;241m.\u001b[39mpop()\n\u001b[1;32m     36\u001b[0m \u001b[38;5;28;01mwhile\u001b[39;00m subnode \u001b[38;5;129;01mis\u001b[39;00m \u001b[38;5;129;01mnot\u001b[39;00m \u001b[38;5;28;01mNone\u001b[39;00m:\n\u001b[0;32m---> 37\u001b[0m     result \u001b[38;5;241m=\u001b[39m \u001b[38;5;28;43mself\u001b[39;49m\u001b[38;5;241;43m.\u001b[39;49m\u001b[43mrule\u001b[49m\u001b[38;5;241;43m.\u001b[39;49m\u001b[43mrewrite\u001b[49m\u001b[43m(\u001b[49m\u001b[43msubnode\u001b[49m\u001b[43m)\u001b[49m\n\u001b[1;32m     38\u001b[0m     \u001b[38;5;28;01mif\u001b[39;00m result\u001b[38;5;241m.\u001b[39mterminated:\n\u001b[1;32m     39\u001b[0m         \u001b[38;5;28;01mreturn\u001b[39;00m result\n",
      "File \u001b[0;32m~/.qbraid/environments/querai_uzkoe7/pyenv/lib/python3.11/site-packages/kirin/rewrite/abc.py:24\u001b[0m, in \u001b[0;36mRewriteRule.rewrite\u001b[0;34m(self, node)\u001b[0m\n\u001b[1;32m     22\u001b[0m     \u001b[38;5;28;01mreturn\u001b[39;00m \u001b[38;5;28mself\u001b[39m\u001b[38;5;241m.\u001b[39mrewrite_Block(node)\n\u001b[1;32m     23\u001b[0m \u001b[38;5;28;01melif\u001b[39;00m \u001b[38;5;28misinstance\u001b[39m(node, Statement):\n\u001b[0;32m---> 24\u001b[0m     \u001b[38;5;28;01mreturn\u001b[39;00m \u001b[38;5;28;43mself\u001b[39;49m\u001b[38;5;241;43m.\u001b[39;49m\u001b[43mrewrite_Statement\u001b[49m\u001b[43m(\u001b[49m\u001b[43mnode\u001b[49m\u001b[43m)\u001b[49m\n\u001b[1;32m     25\u001b[0m \u001b[38;5;28;01melse\u001b[39;00m:\n\u001b[1;32m     26\u001b[0m     \u001b[38;5;28;01mreturn\u001b[39;00m RewriteResult()\n",
      "File \u001b[0;32m~/.qbraid/environments/querai_uzkoe7/pyenv/lib/python3.11/site-packages/bloqade/move/rewrite.py:12\u001b[0m, in \u001b[0;36mMoveDesugarBase.rewrite_Statement\u001b[0;34m(self, node)\u001b[0m\n\u001b[1;32m     11\u001b[0m \u001b[38;5;28;01mdef\u001b[39;00m \u001b[38;5;21mrewrite_Statement\u001b[39m(\u001b[38;5;28mself\u001b[39m, node: ir\u001b[38;5;241m.\u001b[39mStatement) \u001b[38;5;241m-\u001b[39m\u001b[38;5;241m>\u001b[39m RewriteResult:\n\u001b[0;32m---> 12\u001b[0m     \u001b[38;5;28;01mreturn\u001b[39;00m \u001b[38;5;28;43mgetattr\u001b[39;49m\u001b[43m(\u001b[49m\n\u001b[1;32m     13\u001b[0m \u001b[43m        \u001b[49m\u001b[38;5;28;43mself\u001b[39;49m\u001b[43m,\u001b[49m\u001b[43m \u001b[49m\u001b[38;5;124;43mf\u001b[39;49m\u001b[38;5;124;43m\"\u001b[39;49m\u001b[38;5;124;43mrewrite_impl_\u001b[39;49m\u001b[38;5;132;43;01m{\u001b[39;49;00m\u001b[43mnode\u001b[49m\u001b[38;5;241;43m.\u001b[39;49m\u001b[38;5;18;43m__class__\u001b[39;49m\u001b[38;5;241;43m.\u001b[39;49m\u001b[38;5;18;43m__name__\u001b[39;49m\u001b[38;5;132;43;01m}\u001b[39;49;00m\u001b[38;5;124;43m\"\u001b[39;49m\u001b[43m,\u001b[49m\u001b[43m \u001b[49m\u001b[38;5;28;43mself\u001b[39;49m\u001b[38;5;241;43m.\u001b[39;49m\u001b[43mno_rewrite\u001b[49m\n\u001b[1;32m     14\u001b[0m \u001b[43m    \u001b[49m\u001b[43m)\u001b[49m\u001b[43m(\u001b[49m\u001b[43mnode\u001b[49m\u001b[43m)\u001b[49m\n",
      "File \u001b[0;32m~/.qbraid/environments/querai_uzkoe7/pyenv/lib/python3.11/site-packages/bloqade/move/rewrite.py:22\u001b[0m, in \u001b[0;36mMoveDesugarGetItem.rewrite_impl_GetAttr\u001b[0;34m(self, node)\u001b[0m\n\u001b[1;32m     21\u001b[0m \u001b[38;5;28;01mdef\u001b[39;00m \u001b[38;5;21mrewrite_impl_GetAttr\u001b[39m(\u001b[38;5;28mself\u001b[39m, node: py\u001b[38;5;241m.\u001b[39mGetAttr) \u001b[38;5;241m-\u001b[39m\u001b[38;5;241m>\u001b[39m RewriteResult:\n\u001b[0;32m---> 22\u001b[0m     \u001b[38;5;28;01mif\u001b[39;00m \u001b[43mnode\u001b[49m\u001b[38;5;241;43m.\u001b[39;49m\u001b[43mobj\u001b[49m\u001b[38;5;241;43m.\u001b[39;49m\u001b[43mtype\u001b[49m\u001b[38;5;241;43m.\u001b[39;49m\u001b[43mis_subseteq_PyClass\u001b[49m(move_types\u001b[38;5;241m.\u001b[39mAtomStateType):\n\u001b[1;32m     23\u001b[0m         \u001b[38;5;28;01mif\u001b[39;00m node\u001b[38;5;241m.\u001b[39mattrname \u001b[38;5;241m==\u001b[39m \u001b[38;5;124m\"\u001b[39m\u001b[38;5;124mstorage\u001b[39m\u001b[38;5;124m\"\u001b[39m:\n\u001b[1;32m     24\u001b[0m             node\u001b[38;5;241m.\u001b[39mreplace_by(stmt\u001b[38;5;241m.\u001b[39mGetStorageZone(state\u001b[38;5;241m=\u001b[39mnode\u001b[38;5;241m.\u001b[39mobj))\n",
      "\u001b[0;31mAttributeError\u001b[0m: 'AnyType' object has no attribute 'is_subseteq_PyClass'"
     ]
    }
   ],
   "source": [
    "from iquhack_scoring import MoveScorer\n",
    "from bloqade import move\n",
    "from helper_functions import *\n",
    "from answers import *"
   ]
  },
  {
   "cell_type": "code",
   "execution_count": null,
   "id": "0d17abb4-2d16-479e-98cf-bb43c7dcf08a",
   "metadata": {},
   "outputs": [],
   "source": [
    "# any subrouting that you want to use in your solution"
   ]
  },
  {
   "cell_type": "code",
   "execution_count": null,
   "id": "fc5cf878-d3cb-4187-ba1c-edcc73576543",
   "metadata": {
    "scrolled": true
   },
   "outputs": [],
   "source": [
    "@move.vmove\n",
    "def main():\n",
    "    state = answer_1a()\n",
    "    move.Execute(state)"
   ]
  },
  {
   "cell_type": "code",
   "execution_count": 4,
   "id": "bbbd508c-a3f6-4082-b24b-5b376331e992",
   "metadata": {},
   "outputs": [],
   "source": [
    "@move.vmove()\n",
    "def execute(state:move.core.AtomState):\n",
    "    move.Execute(state)"
   ]
  },
  {
   "cell_type": "code",
   "execution_count": 6,
   "id": "5841092b-15a0-409e-859b-a9b0d7da95f9",
   "metadata": {},
   "outputs": [],
   "source": [
    "# The expected qasm code for the solution\n",
    "expected_qasm = \"\"\"\n",
    "\"\"\""
   ]
  },
  {
   "cell_type": "code",
   "execution_count": 7,
   "id": "ba371df1-97d5-4f0a-a840-63aa4f56973e",
   "metadata": {},
   "outputs": [],
   "source": [
    "# run any extra compiler passes here\n",
    "# NOTE: make sure you inline any subroutine invocations before running the scorer\n",
    "#       Look at the examples to see how to do this."
   ]
  },
  {
   "cell_type": "code",
   "execution_count": 8,
   "id": "436d35cb-2a8f-4ec3-9b89-37f2f75a555c",
   "metadata": {
    "scrolled": true
   },
   "outputs": [
    {
     "name": "stdout",
     "output_type": "stream",
     "text": [
      "\u001b[34mfunc\u001b[0m\u001b[31m.\u001b[0m\u001b[31mfunc\u001b[0m\u001b[31m \u001b[0m\u001b[36mmain\u001b[0m()\u001b[90m -> \u001b[0m\u001b[90m!\u001b[0m\u001b[90mAny\u001b[0m\u001b[90m \u001b[0m{\n",
      "\u001b[90m  \u001b[0m^0(%main_self):\n",
      "\u001b[90m  │   \u001b[0m\n",
      "\u001b[90m  │ \u001b[0m%state = \u001b[34mfunc\u001b[0m\u001b[31m.\u001b[0m\u001b[31minvoke\u001b[0m answer_1a()\u001b[30m : \u001b[0m\u001b[30m!\u001b[0m\u001b[30mAny\u001b[0m\u001b[33m # ---> \u001b[0m\u001b[33mUnknown atom state\u001b[0m\n",
      "\u001b[90m  │ \u001b[0m         \u001b[34mmove\u001b[0m.execute(\u001b[33matom_state=\u001b[0m%state)\n",
      "\u001b[90m  │ \u001b[0m    %0 = \u001b[34mfunc\u001b[0m.const.none()\u001b[30m : \u001b[0m\u001b[30m!\u001b[0m\u001b[30mHinted\u001b[0m\u001b[30m(\u001b[0m\u001b[30m!py.NoneType\u001b[0m\u001b[30m, Value(data=None)\u001b[0m\u001b[30m)\u001b[0m\n",
      "\u001b[90m  │ \u001b[0m         \u001b[34mfunc\u001b[0m\u001b[31m.\u001b[0m\u001b[31mreturn\u001b[0m %0\n",
      "}\u001b[90m // func.func main\u001b[0m\n",
      "\n",
      "==================================== Python stacktrace ====================================\n"
     ]
    },
    {
     "ename": "ValueError",
     "evalue": "Errors in qasm2 analysis, see above.",
     "output_type": "error",
     "traceback": [
      "\u001b[0;31m---------------------------------------------------------------------------\u001b[0m",
      "\u001b[0;31mValueError\u001b[0m                                Traceback (most recent call last)",
      "Cell \u001b[0;32mIn[8], line 2\u001b[0m\n\u001b[1;32m      1\u001b[0m scorer \u001b[38;5;241m=\u001b[39m MoveScorer(main, expected_qasm)\n\u001b[0;32m----> 2\u001b[0m score \u001b[38;5;241m=\u001b[39m \u001b[43mscorer\u001b[49m\u001b[38;5;241;43m.\u001b[39;49m\u001b[43mscore\u001b[49m\u001b[43m(\u001b[49m\u001b[43m)\u001b[49m\n\u001b[1;32m      3\u001b[0m \u001b[38;5;28mprint\u001b[39m(score)\n",
      "File \u001b[0;32m~/.qbraid/environments/querai_uzkoe7/pyenv/lib/python3.11/site-packages/iquhack_scoring/score.py:505\u001b[0m, in \u001b[0;36mMoveScorer.score\u001b[0;34m(self, run_validation)\u001b[0m\n\u001b[1;32m    495\u001b[0m \u001b[38;5;250m\u001b[39m\u001b[38;5;124;03m\"\"\"Return a dictionary of scores for the method\u001b[39;00m\n\u001b[1;32m    496\u001b[0m \n\u001b[1;32m    497\u001b[0m \u001b[38;5;124;03mArgs\u001b[39;00m\n\u001b[0;32m   (...)\u001b[0m\n\u001b[1;32m    502\u001b[0m \n\u001b[1;32m    503\u001b[0m \u001b[38;5;124;03m\"\"\"\u001b[39;00m\n\u001b[1;32m    504\u001b[0m \u001b[38;5;28;01mif\u001b[39;00m run_validation:\n\u001b[0;32m--> 505\u001b[0m     \u001b[38;5;28;43mself\u001b[39;49m\u001b[38;5;241;43m.\u001b[39;49m\u001b[43mvalidate\u001b[49m\u001b[43m(\u001b[49m\u001b[43m)\u001b[49m\n\u001b[1;32m    506\u001b[0m move_analysis_result \u001b[38;5;241m=\u001b[39m \u001b[38;5;28mself\u001b[39m\u001b[38;5;241m.\u001b[39m_run_move_analysis()\n\u001b[1;32m    507\u001b[0m move_score \u001b[38;5;241m=\u001b[39m \u001b[38;5;28mself\u001b[39m\u001b[38;5;241m.\u001b[39m_score_moves(move_analysis_result)\n",
      "File \u001b[0;32m~/.qbraid/environments/querai_uzkoe7/pyenv/lib/python3.11/site-packages/iquhack_scoring/score.py:370\u001b[0m, in \u001b[0;36mMoveScorer.validate\u001b[0;34m(self)\u001b[0m\n\u001b[1;32m    369\u001b[0m \u001b[38;5;28;01mdef\u001b[39;00m \u001b[38;5;21mvalidate\u001b[39m(\u001b[38;5;28mself\u001b[39m) \u001b[38;5;241m-\u001b[39m\u001b[38;5;241m>\u001b[39m \u001b[38;5;28mbool\u001b[39m:\n\u001b[0;32m--> 370\u001b[0m     qasm \u001b[38;5;241m=\u001b[39m \u001b[38;5;28;43mself\u001b[39;49m\u001b[38;5;241;43m.\u001b[39;49m\u001b[43mgenerate_qasm\u001b[49m\u001b[43m(\u001b[49m\u001b[43m)\u001b[49m\n\u001b[1;32m    372\u001b[0m     \u001b[38;5;28;01mif\u001b[39;00m \u001b[38;5;129;01mnot\u001b[39;00m verify_circuits(qasm, \u001b[38;5;28mself\u001b[39m\u001b[38;5;241m.\u001b[39mexpected_qasm):\n\u001b[1;32m    373\u001b[0m         \u001b[38;5;28mprint\u001b[39m(\u001b[38;5;124mf\u001b[39m\u001b[38;5;124m\"\u001b[39m\u001b[38;5;124moutput:\u001b[39m\u001b[38;5;130;01m\\n\u001b[39;00m\u001b[38;5;130;01m\\n\u001b[39;00m\u001b[38;5;132;01m{\u001b[39;00mqasm\u001b[38;5;132;01m}\u001b[39;00m\u001b[38;5;124m\"\u001b[39m)\n",
      "File \u001b[0;32m~/.qbraid/environments/querai_uzkoe7/pyenv/lib/python3.11/site-packages/iquhack_scoring/score.py:367\u001b[0m, in \u001b[0;36mMoveScorer.generate_qasm\u001b[0;34m(self)\u001b[0m\n\u001b[1;32m    364\u001b[0m \u001b[38;5;28;01mdef\u001b[39;00m \u001b[38;5;21mgenerate_qasm\u001b[39m(\u001b[38;5;28mself\u001b[39m) \u001b[38;5;241m-\u001b[39m\u001b[38;5;241m>\u001b[39m \u001b[38;5;28mstr\u001b[39m:\n\u001b[1;32m    365\u001b[0m     \u001b[38;5;28;01mfrom\u001b[39;00m \u001b[38;5;21;01mbloqade\u001b[39;00m\u001b[38;5;21;01m.\u001b[39;00m\u001b[38;5;21;01mmove\u001b[39;00m\u001b[38;5;21;01m.\u001b[39;00m\u001b[38;5;21;01memit\u001b[39;00m \u001b[38;5;28;01mimport\u001b[39;00m MoveToQASM2\n\u001b[0;32m--> 367\u001b[0m     \u001b[38;5;28;01mreturn\u001b[39;00m \u001b[43mMoveToQASM2\u001b[49m\u001b[43m(\u001b[49m\u001b[43m)\u001b[49m\u001b[38;5;241;43m.\u001b[39;49m\u001b[43memit_str\u001b[49m\u001b[43m(\u001b[49m\u001b[38;5;28;43mself\u001b[39;49m\u001b[38;5;241;43m.\u001b[39;49m\u001b[43mmt\u001b[49m\u001b[43m)\u001b[49m\n",
      "File \u001b[0;32m~/.qbraid/environments/querai_uzkoe7/pyenv/lib/python3.11/site-packages/bloqade/move/emit.py:95\u001b[0m, in \u001b[0;36mMoveToQASM2.emit_str\u001b[0;34m(self, entry)\u001b[0m\n\u001b[1;32m     93\u001b[0m \u001b[38;5;28;01mdef\u001b[39;00m \u001b[38;5;21memit_str\u001b[39m(\u001b[38;5;28mself\u001b[39m, entry: ir\u001b[38;5;241m.\u001b[39mMethod):\n\u001b[1;32m     94\u001b[0m     output_io \u001b[38;5;241m=\u001b[39m io\u001b[38;5;241m.\u001b[39mStringIO()\n\u001b[0;32m---> 95\u001b[0m     Printer(output_io)\u001b[38;5;241m.\u001b[39mvisit(\u001b[38;5;28;43mself\u001b[39;49m\u001b[38;5;241;43m.\u001b[39;49m\u001b[43memit\u001b[49m\u001b[43m(\u001b[49m\u001b[43mentry\u001b[49m\u001b[43m)\u001b[49m)\n\u001b[1;32m     96\u001b[0m     \u001b[38;5;28;01mreturn\u001b[39;00m output_io\u001b[38;5;241m.\u001b[39mgetvalue()\n",
      "File \u001b[0;32m~/.qbraid/environments/querai_uzkoe7/pyenv/lib/python3.11/site-packages/bloqade/move/emit.py:87\u001b[0m, in \u001b[0;36mMoveToQASM2.emit\u001b[0;34m(self, entry)\u001b[0m\n\u001b[1;32m     83\u001b[0m \u001b[38;5;28;01mdef\u001b[39;00m \u001b[38;5;21memit\u001b[39m(\u001b[38;5;28mself\u001b[39m, entry: ir\u001b[38;5;241m.\u001b[39mMethod):\n\u001b[1;32m     84\u001b[0m     codegen \u001b[38;5;241m=\u001b[39m EmitQASM2FromMove(\n\u001b[1;32m     85\u001b[0m         move_analysis_results\u001b[38;5;241m=\u001b[39mMoveAnalysis(vmove)\u001b[38;5;241m.\u001b[39mscore(entry)\n\u001b[1;32m     86\u001b[0m     )\n\u001b[0;32m---> 87\u001b[0m     _ \u001b[38;5;241m=\u001b[39m \u001b[43mcodegen\u001b[49m\u001b[38;5;241;43m.\u001b[39;49m\u001b[43mrun\u001b[49m\u001b[43m(\u001b[49m\u001b[43mentry\u001b[49m\u001b[43m,\u001b[49m\u001b[43m \u001b[49m\u001b[43m(\u001b[49m\u001b[43m)\u001b[49m\u001b[43m)\u001b[49m\u001b[38;5;241m.\u001b[39mexpect()\n\u001b[1;32m     88\u001b[0m     output \u001b[38;5;241m=\u001b[39m codegen\u001b[38;5;241m.\u001b[39moutput\n\u001b[1;32m     89\u001b[0m     \u001b[38;5;28;01massert\u001b[39;00m output \u001b[38;5;129;01mis\u001b[39;00m \u001b[38;5;129;01mnot\u001b[39;00m \u001b[38;5;28;01mNone\u001b[39;00m, \u001b[38;5;124m\"\u001b[39m\u001b[38;5;124mFailed to emit\u001b[39m\u001b[38;5;124m\"\u001b[39m\n",
      "File \u001b[0;32m~/.qbraid/environments/querai_uzkoe7/pyenv/lib/python3.11/site-packages/kirin/interp/base.py:141\u001b[0m, in \u001b[0;36mBaseInterpreter.run\u001b[0;34m(self, mt, args, kwargs)\u001b[0m\n\u001b[1;32m    136\u001b[0m     \u001b[38;5;28;01mraise\u001b[39;00m InterpreterError(\n\u001b[1;32m    137\u001b[0m         \u001b[38;5;124m\"\u001b[39m\u001b[38;5;124mrecursive eval is not allowed, use run_method instead\u001b[39m\u001b[38;5;124m\"\u001b[39m\n\u001b[1;32m    138\u001b[0m     )\n\u001b[1;32m    140\u001b[0m \u001b[38;5;28mself\u001b[39m\u001b[38;5;241m.\u001b[39m_eval_lock \u001b[38;5;241m=\u001b[39m \u001b[38;5;28;01mTrue\u001b[39;00m\n\u001b[0;32m--> 141\u001b[0m \u001b[38;5;28;43mself\u001b[39;49m\u001b[38;5;241;43m.\u001b[39;49m\u001b[43minitialize\u001b[49m\u001b[43m(\u001b[49m\u001b[43m)\u001b[49m\n\u001b[1;32m    142\u001b[0m current_recursion_limit \u001b[38;5;241m=\u001b[39m sys\u001b[38;5;241m.\u001b[39mgetrecursionlimit()\n\u001b[1;32m    143\u001b[0m sys\u001b[38;5;241m.\u001b[39msetrecursionlimit(\u001b[38;5;28mself\u001b[39m\u001b[38;5;241m.\u001b[39mmax_python_recursion_depth)\n",
      "File \u001b[0;32m~/.qbraid/environments/querai_uzkoe7/pyenv/lib/python3.11/site-packages/bloqade/move/emit.py:35\u001b[0m, in \u001b[0;36mEmitQASM2FromMove.initialize\u001b[0;34m(self)\u001b[0m\n\u001b[1;32m     33\u001b[0m \u001b[38;5;28;01mdef\u001b[39;00m \u001b[38;5;21minitialize\u001b[39m(\u001b[38;5;28mself\u001b[39m):\n\u001b[1;32m     34\u001b[0m     \u001b[38;5;28msuper\u001b[39m()\u001b[38;5;241m.\u001b[39minitialize()\n\u001b[0;32m---> 35\u001b[0m     \u001b[38;5;28mself\u001b[39m\u001b[38;5;241m.\u001b[39mmove_results \u001b[38;5;241m=\u001b[39m \u001b[38;5;28;43mself\u001b[39;49m\u001b[38;5;241;43m.\u001b[39;49m\u001b[43mmove_analysis_results\u001b[49m\u001b[38;5;241;43m.\u001b[39;49m\u001b[43mget\u001b[49m\u001b[43m(\u001b[49m\u001b[43m)\u001b[49m\n",
      "File \u001b[0;32m~/.qbraid/environments/querai_uzkoe7/pyenv/lib/python3.11/site-packages/bloqade/move/analysis/analysis.py:44\u001b[0m, in \u001b[0;36mMoveAnalysisResult.get\u001b[0;34m(self)\u001b[0m\n\u001b[1;32m     40\u001b[0m     \u001b[38;5;28mprint\u001b[39m()\n\u001b[1;32m     41\u001b[0m     \u001b[38;5;28mprint\u001b[39m(\n\u001b[1;32m     42\u001b[0m         \u001b[38;5;124m\"\u001b[39m\u001b[38;5;124m==================================== Python stacktrace ====================================\u001b[39m\u001b[38;5;124m\"\u001b[39m\n\u001b[1;32m     43\u001b[0m     )\n\u001b[0;32m---> 44\u001b[0m     \u001b[38;5;28;01mraise\u001b[39;00m \u001b[38;5;167;01mValueError\u001b[39;00m(\u001b[38;5;124m\"\u001b[39m\u001b[38;5;124mErrors in qasm2 analysis, see above.\u001b[39m\u001b[38;5;124m\"\u001b[39m)\n\u001b[1;32m     46\u001b[0m \u001b[38;5;28;01mif\u001b[39;00m \u001b[38;5;28misinstance\u001b[39m(\n\u001b[1;32m     47\u001b[0m     \u001b[38;5;28mself\u001b[39m\u001b[38;5;241m.\u001b[39mresult,\n\u001b[1;32m     48\u001b[0m     (\n\u001b[0;32m   (...)\u001b[0m\n\u001b[1;32m     51\u001b[0m     ),\n\u001b[1;32m     52\u001b[0m ):\n\u001b[1;32m     53\u001b[0m     \u001b[38;5;28;01mraise\u001b[39;00m \u001b[38;5;167;01mValueError\u001b[39;00m(\u001b[38;5;124m\"\u001b[39m\u001b[38;5;124mInvalid return value for qasm2 method\u001b[39m\u001b[38;5;124m\"\u001b[39m)\n",
      "\u001b[0;31mValueError\u001b[0m: Errors in qasm2 analysis, see above."
     ]
    }
   ],
   "source": [
    "scorer = MoveScorer(main, expected_qasm)\n",
    "score = scorer.score()\n",
    "print(score)"
   ]
  },
  {
   "cell_type": "code",
   "execution_count": null,
   "id": "7ee6c460-1da1-4833-bdf0-b350de40cae1",
   "metadata": {},
   "outputs": [],
   "source": []
  },
  {
   "cell_type": "code",
   "execution_count": null,
   "id": "9570c706-feea-4c7d-8872-70d6fcba29cf",
   "metadata": {},
   "outputs": [],
   "source": []
  }
 ],
 "metadata": {
  "kernelspec": {
   "display_name": "Python 3 [QuEra]",
   "language": "python",
   "name": "python3_querai_uzkoe7"
  },
  "language_info": {
   "codemirror_mode": {
    "name": "ipython",
    "version": 3
   },
   "file_extension": ".py",
   "mimetype": "text/x-python",
   "name": "python",
   "nbconvert_exporter": "python",
   "pygments_lexer": "ipython3",
   "version": "3.11.9"
  }
 },
 "nbformat": 4,
 "nbformat_minor": 5
}
