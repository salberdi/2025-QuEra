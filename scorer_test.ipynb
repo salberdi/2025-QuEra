{
 "cells": [
  {
   "cell_type": "code",
   "execution_count": 1,
   "id": "ac4053d9-acc2-4444-8594-43d6e5c47a0e",
   "metadata": {
    "scrolled": true
   },
   "outputs": [],
   "source": [
    "from iquhack_scoring import MoveScorer\n",
    "from bloqade import move\n",
    "from helper_functions import *\n",
    "# from answers import *"
   ]
  },
  {
   "cell_type": "code",
   "execution_count": 2,
   "id": "0d17abb4-2d16-479e-98cf-bb43c7dcf08a",
   "metadata": {},
   "outputs": [],
   "source": [
    "# any subrouting that you want to use in your solution"
   ]
  },
  {
   "cell_type": "code",
   "execution_count": 3,
   "id": "fc5cf878-d3cb-4187-ba1c-edcc73576543",
   "metadata": {
    "scrolled": true
   },
   "outputs": [
    {
     "ename": "DialectLoweringError",
     "evalue": "answer_1a is not defined\n\n@move.vmove\ndef main():\n    answer_1a()\n----^\n    move.Execute(state)\n",
     "output_type": "error",
     "traceback": [
      "\u001b[0;31m---------------------------------------------------------------------------\u001b[0m",
      "\u001b[0;31mDialectLoweringError\u001b[0m                      Traceback (most recent call last)",
      "Cell \u001b[0;32mIn[3], line 1\u001b[0m\n\u001b[0;32m----> 1\u001b[0m \u001b[38;5;129;43m@move\u001b[39;49m\u001b[38;5;241;43m.\u001b[39;49m\u001b[43mvmove\u001b[49m\n\u001b[1;32m      2\u001b[0m \u001b[38;5;28;43;01mdef\u001b[39;49;00m\u001b[43m \u001b[49m\u001b[38;5;21;43mmain\u001b[39;49m\u001b[43m(\u001b[49m\u001b[43m)\u001b[49m\u001b[43m:\u001b[49m\n\u001b[1;32m      3\u001b[0m \u001b[43m    \u001b[49m\u001b[43manswer_1a\u001b[49m\u001b[43m(\u001b[49m\u001b[43m)\u001b[49m\n\u001b[1;32m      4\u001b[0m \u001b[43m    \u001b[49m\u001b[43mmove\u001b[49m\u001b[38;5;241;43m.\u001b[39;49m\u001b[43mExecute\u001b[49m\u001b[43m(\u001b[49m\u001b[43mstate\u001b[49m\u001b[43m)\u001b[49m\n",
      "File \u001b[0;32m~/.qbraid/environments/querai_uzkoe7/pyenv/lib/python3.11/site-packages/kirin/ir/group.py:186\u001b[0m, in \u001b[0;36mDialectGroup.__call__\u001b[0;34m(self, py_func, *args, **options)\u001b[0m\n\u001b[1;32m    183\u001b[0m     \u001b[38;5;28;01mreturn\u001b[39;00m mt\n\u001b[1;32m    185\u001b[0m \u001b[38;5;28;01mif\u001b[39;00m py_func \u001b[38;5;129;01mis\u001b[39;00m \u001b[38;5;129;01mnot\u001b[39;00m \u001b[38;5;28;01mNone\u001b[39;00m:\n\u001b[0;32m--> 186\u001b[0m     \u001b[38;5;28;01mreturn\u001b[39;00m \u001b[43mwrapper\u001b[49m\u001b[43m(\u001b[49m\u001b[43mpy_func\u001b[49m\u001b[43m)\u001b[49m\n\u001b[1;32m    187\u001b[0m \u001b[38;5;28;01mreturn\u001b[39;00m wrapper\n",
      "File \u001b[0;32m~/.qbraid/environments/querai_uzkoe7/pyenv/lib/python3.11/site-packages/kirin/ir/group.py:168\u001b[0m, in \u001b[0;36mDialectGroup.__call__.<locals>.wrapper\u001b[0;34m(py_func)\u001b[0m\n\u001b[1;32m    165\u001b[0m     lineno_offset \u001b[38;5;241m=\u001b[39m call_site_frame\u001b[38;5;241m.\u001b[39mf_lineno \u001b[38;5;241m-\u001b[39m \u001b[38;5;241m1\u001b[39m\n\u001b[1;32m    166\u001b[0m     file \u001b[38;5;241m=\u001b[39m call_site_frame\u001b[38;5;241m.\u001b[39mf_code\u001b[38;5;241m.\u001b[39mco_filename\n\u001b[0;32m--> 168\u001b[0m code \u001b[38;5;241m=\u001b[39m \u001b[43memit_ir\u001b[49m\u001b[38;5;241;43m.\u001b[39;49m\u001b[43mrun\u001b[49m\u001b[43m(\u001b[49m\u001b[43mpy_func\u001b[49m\u001b[43m,\u001b[49m\u001b[43m \u001b[49m\u001b[43mlineno_offset\u001b[49m\u001b[38;5;241;43m=\u001b[39;49m\u001b[43mlineno_offset\u001b[49m\u001b[43m)\u001b[49m\n\u001b[1;32m    169\u001b[0m mt \u001b[38;5;241m=\u001b[39m Method(\n\u001b[1;32m    170\u001b[0m     mod\u001b[38;5;241m=\u001b[39minspect\u001b[38;5;241m.\u001b[39mgetmodule(py_func),\n\u001b[1;32m    171\u001b[0m     py_func\u001b[38;5;241m=\u001b[39mpy_func,\n\u001b[0;32m   (...)\u001b[0m\n\u001b[1;32m    176\u001b[0m     file\u001b[38;5;241m=\u001b[39mfile,\n\u001b[1;32m    177\u001b[0m )\n\u001b[1;32m    178\u001b[0m \u001b[38;5;28;01mif\u001b[39;00m doc \u001b[38;5;241m:=\u001b[39m inspect\u001b[38;5;241m.\u001b[39mgetdoc(py_func):\n",
      "File \u001b[0;32m~/.qbraid/environments/querai_uzkoe7/pyenv/lib/python3.11/site-packages/kirin/lowering/core.py:65\u001b[0m, in \u001b[0;36mLowering.run\u001b[0;34m(self, stmt, source, globals, lineno_offset, col_offset)\u001b[0m\n\u001b[1;32m     63\u001b[0m \u001b[38;5;28;01mexcept\u001b[39;00m DialectLoweringError \u001b[38;5;28;01mas\u001b[39;00m e:\n\u001b[1;32m     64\u001b[0m     e\u001b[38;5;241m.\u001b[39margs \u001b[38;5;241m=\u001b[39m (\u001b[38;5;124mf\u001b[39m\u001b[38;5;124m\"\u001b[39m\u001b[38;5;132;01m{\u001b[39;00me\u001b[38;5;241m.\u001b[39margs[\u001b[38;5;241m0\u001b[39m]\u001b[38;5;132;01m}\u001b[39;00m\u001b[38;5;130;01m\\n\u001b[39;00m\u001b[38;5;130;01m\\n\u001b[39;00m\u001b[38;5;132;01m{\u001b[39;00mstate\u001b[38;5;241m.\u001b[39merror_hint()\u001b[38;5;132;01m}\u001b[39;00m\u001b[38;5;124m\"\u001b[39m,) \u001b[38;5;241m+\u001b[39m e\u001b[38;5;241m.\u001b[39margs[\u001b[38;5;241m1\u001b[39m:]\n\u001b[0;32m---> 65\u001b[0m     \u001b[38;5;28;01mraise\u001b[39;00m e\n\u001b[1;32m     66\u001b[0m \u001b[38;5;28;01mreturn\u001b[39;00m state\u001b[38;5;241m.\u001b[39mcode\n",
      "File \u001b[0;32m~/.qbraid/environments/querai_uzkoe7/pyenv/lib/python3.11/site-packages/kirin/lowering/core.py:62\u001b[0m, in \u001b[0;36mLowering.run\u001b[0;34m(self, stmt, source, globals, lineno_offset, col_offset)\u001b[0m\n\u001b[1;32m     58\u001b[0m state \u001b[38;5;241m=\u001b[39m LoweringState\u001b[38;5;241m.\u001b[39mfrom_stmt(\n\u001b[1;32m     59\u001b[0m     \u001b[38;5;28mself\u001b[39m, stmt, source, \u001b[38;5;28mglobals\u001b[39m, \u001b[38;5;28mself\u001b[39m\u001b[38;5;241m.\u001b[39mmax_lines, lineno_offset, col_offset\n\u001b[1;32m     60\u001b[0m )\n\u001b[1;32m     61\u001b[0m \u001b[38;5;28;01mtry\u001b[39;00m:\n\u001b[0;32m---> 62\u001b[0m     \u001b[43mstate\u001b[49m\u001b[38;5;241;43m.\u001b[39;49m\u001b[43mvisit\u001b[49m\u001b[43m(\u001b[49m\u001b[43mstmt\u001b[49m\u001b[43m)\u001b[49m\n\u001b[1;32m     63\u001b[0m \u001b[38;5;28;01mexcept\u001b[39;00m DialectLoweringError \u001b[38;5;28;01mas\u001b[39;00m e:\n\u001b[1;32m     64\u001b[0m     e\u001b[38;5;241m.\u001b[39margs \u001b[38;5;241m=\u001b[39m (\u001b[38;5;124mf\u001b[39m\u001b[38;5;124m\"\u001b[39m\u001b[38;5;132;01m{\u001b[39;00me\u001b[38;5;241m.\u001b[39margs[\u001b[38;5;241m0\u001b[39m]\u001b[38;5;132;01m}\u001b[39;00m\u001b[38;5;130;01m\\n\u001b[39;00m\u001b[38;5;130;01m\\n\u001b[39;00m\u001b[38;5;132;01m{\u001b[39;00mstate\u001b[38;5;241m.\u001b[39merror_hint()\u001b[38;5;132;01m}\u001b[39;00m\u001b[38;5;124m\"\u001b[39m,) \u001b[38;5;241m+\u001b[39m e\u001b[38;5;241m.\u001b[39margs[\u001b[38;5;241m1\u001b[39m:]\n",
      "File \u001b[0;32m~/.qbraid/environments/querai_uzkoe7/pyenv/lib/python3.11/site-packages/kirin/lowering/state.py:110\u001b[0m, in \u001b[0;36mLoweringState.visit\u001b[0;34m(self, node)\u001b[0m\n\u001b[1;32m    108\u001b[0m name \u001b[38;5;241m=\u001b[39m node\u001b[38;5;241m.\u001b[39m\u001b[38;5;18m__class__\u001b[39m\u001b[38;5;241m.\u001b[39m\u001b[38;5;18m__name__\u001b[39m\n\u001b[1;32m    109\u001b[0m \u001b[38;5;28;01mif\u001b[39;00m name \u001b[38;5;129;01min\u001b[39;00m \u001b[38;5;28mself\u001b[39m\u001b[38;5;241m.\u001b[39mregistry:\n\u001b[0;32m--> 110\u001b[0m     \u001b[38;5;28;01mreturn\u001b[39;00m \u001b[38;5;28;43mself\u001b[39;49m\u001b[38;5;241;43m.\u001b[39;49m\u001b[43mregistry\u001b[49m\u001b[43m[\u001b[49m\u001b[43mname\u001b[49m\u001b[43m]\u001b[49m\u001b[38;5;241;43m.\u001b[39;49m\u001b[43mlower\u001b[49m\u001b[43m(\u001b[49m\u001b[38;5;28;43mself\u001b[39;49m\u001b[43m,\u001b[49m\u001b[43m \u001b[49m\u001b[43mnode\u001b[49m\u001b[43m)\u001b[49m\n\u001b[1;32m    111\u001b[0m \u001b[38;5;28;01melif\u001b[39;00m \u001b[38;5;28misinstance\u001b[39m(node, ast\u001b[38;5;241m.\u001b[39mCall):\n\u001b[1;32m    112\u001b[0m     \u001b[38;5;66;03m# NOTE: if lower_Call is implemented,\u001b[39;00m\n\u001b[1;32m    113\u001b[0m     \u001b[38;5;66;03m# it will be called first before __dispatch_Call\u001b[39;00m\n\u001b[1;32m    114\u001b[0m     \u001b[38;5;66;03m# because \"Call\" exists in self.registry\u001b[39;00m\n\u001b[1;32m    115\u001b[0m     \u001b[38;5;28;01mreturn\u001b[39;00m \u001b[38;5;28mself\u001b[39m\u001b[38;5;241m.\u001b[39m__dispatch_Call(node)\n",
      "File \u001b[0;32m~/.qbraid/environments/querai_uzkoe7/pyenv/lib/python3.11/site-packages/kirin/lowering/dialect.py:26\u001b[0m, in \u001b[0;36mFromPythonAST.lower\u001b[0;34m(self, state, node)\u001b[0m\n\u001b[1;32m     24\u001b[0m \u001b[38;5;28;01mdef\u001b[39;00m \u001b[38;5;21mlower\u001b[39m(\u001b[38;5;28mself\u001b[39m, state: LoweringState, node: ast\u001b[38;5;241m.\u001b[39mAST) \u001b[38;5;241m-\u001b[39m\u001b[38;5;241m>\u001b[39m Result:\n\u001b[1;32m     25\u001b[0m \u001b[38;5;250m    \u001b[39m\u001b[38;5;124;03m\"\"\"Entry point of dialect specific lowering.\"\"\"\u001b[39;00m\n\u001b[0;32m---> 26\u001b[0m     \u001b[38;5;28;01mreturn\u001b[39;00m \u001b[38;5;28;43mgetattr\u001b[39;49m\u001b[43m(\u001b[49m\u001b[38;5;28;43mself\u001b[39;49m\u001b[43m,\u001b[49m\u001b[43m \u001b[49m\u001b[38;5;124;43mf\u001b[39;49m\u001b[38;5;124;43m\"\u001b[39;49m\u001b[38;5;124;43mlower_\u001b[39;49m\u001b[38;5;132;43;01m{\u001b[39;49;00m\u001b[43mnode\u001b[49m\u001b[38;5;241;43m.\u001b[39;49m\u001b[38;5;18;43m__class__\u001b[39;49m\u001b[38;5;241;43m.\u001b[39;49m\u001b[38;5;18;43m__name__\u001b[39;49m\u001b[38;5;132;43;01m}\u001b[39;49;00m\u001b[38;5;124;43m\"\u001b[39;49m\u001b[43m,\u001b[49m\u001b[43m \u001b[49m\u001b[38;5;28;43mself\u001b[39;49m\u001b[38;5;241;43m.\u001b[39;49m\u001b[43munreachable\u001b[49m\u001b[43m)\u001b[49m\u001b[43m(\u001b[49m\n\u001b[1;32m     27\u001b[0m \u001b[43m        \u001b[49m\u001b[43mstate\u001b[49m\u001b[43m,\u001b[49m\u001b[43m \u001b[49m\u001b[43mnode\u001b[49m\n\u001b[1;32m     28\u001b[0m \u001b[43m    \u001b[49m\u001b[43m)\u001b[49m\n",
      "File \u001b[0;32m~/.qbraid/environments/querai_uzkoe7/pyenv/lib/python3.11/site-packages/kirin/dialects/func/lower.py:124\u001b[0m, in \u001b[0;36mFuncLowering.lower_FunctionDef\u001b[0;34m(self, state, node)\u001b[0m\n\u001b[1;32m    122\u001b[0m return_none\u001b[38;5;241m.\u001b[39msource \u001b[38;5;241m=\u001b[39m state\u001b[38;5;241m.\u001b[39msource\n\u001b[1;32m    123\u001b[0m func_frame\u001b[38;5;241m.\u001b[39mnext_block \u001b[38;5;241m=\u001b[39m ir\u001b[38;5;241m.\u001b[39mBlock([none_const, return_none])\n\u001b[0;32m--> 124\u001b[0m \u001b[43mstate\u001b[49m\u001b[38;5;241;43m.\u001b[39;49m\u001b[43mexhaust\u001b[49m\u001b[43m(\u001b[49m\u001b[43mfunc_frame\u001b[49m\u001b[43m)\u001b[49m\n\u001b[1;32m    125\u001b[0m \u001b[38;5;28;01mif\u001b[39;00m (\n\u001b[1;32m    126\u001b[0m     func_frame\u001b[38;5;241m.\u001b[39mcurrent_block\u001b[38;5;241m.\u001b[39mlast_stmt\n\u001b[1;32m    127\u001b[0m     \u001b[38;5;129;01mand\u001b[39;00m \u001b[38;5;129;01mnot\u001b[39;00m func_frame\u001b[38;5;241m.\u001b[39mcurrent_block\u001b[38;5;241m.\u001b[39mlast_stmt\u001b[38;5;241m.\u001b[39mhas_trait(ir\u001b[38;5;241m.\u001b[39mIsTerminator)\n\u001b[1;32m    128\u001b[0m ):\n\u001b[1;32m    129\u001b[0m     func_frame\u001b[38;5;241m.\u001b[39mappend_stmt(\n\u001b[1;32m    130\u001b[0m         Return(func_frame\u001b[38;5;241m.\u001b[39mappend_stmt(ConstantNone())\u001b[38;5;241m.\u001b[39mresult)\n\u001b[1;32m    131\u001b[0m     )\n",
      "File \u001b[0;32m~/.qbraid/environments/querai_uzkoe7/pyenv/lib/python3.11/site-packages/kirin/lowering/state.py:330\u001b[0m, in \u001b[0;36mLoweringState.exhaust\u001b[0;34m(self, frame)\u001b[0m\n\u001b[1;32m    328\u001b[0m \u001b[38;5;28;01mwhile\u001b[39;00m stream\u001b[38;5;241m.\u001b[39mhas_next():\n\u001b[1;32m    329\u001b[0m     stmt \u001b[38;5;241m=\u001b[39m stream\u001b[38;5;241m.\u001b[39mpop()\n\u001b[0;32m--> 330\u001b[0m     \u001b[38;5;28;43mself\u001b[39;49m\u001b[38;5;241;43m.\u001b[39;49m\u001b[43mvisit\u001b[49m\u001b[43m(\u001b[49m\u001b[43mstmt\u001b[49m\u001b[43m)\u001b[49m\n\u001b[1;32m    331\u001b[0m \u001b[38;5;28;01mreturn\u001b[39;00m current_frame\n",
      "File \u001b[0;32m~/.qbraid/environments/querai_uzkoe7/pyenv/lib/python3.11/site-packages/kirin/lowering/state.py:110\u001b[0m, in \u001b[0;36mLoweringState.visit\u001b[0;34m(self, node)\u001b[0m\n\u001b[1;32m    108\u001b[0m name \u001b[38;5;241m=\u001b[39m node\u001b[38;5;241m.\u001b[39m\u001b[38;5;18m__class__\u001b[39m\u001b[38;5;241m.\u001b[39m\u001b[38;5;18m__name__\u001b[39m\n\u001b[1;32m    109\u001b[0m \u001b[38;5;28;01mif\u001b[39;00m name \u001b[38;5;129;01min\u001b[39;00m \u001b[38;5;28mself\u001b[39m\u001b[38;5;241m.\u001b[39mregistry:\n\u001b[0;32m--> 110\u001b[0m     \u001b[38;5;28;01mreturn\u001b[39;00m \u001b[38;5;28;43mself\u001b[39;49m\u001b[38;5;241;43m.\u001b[39;49m\u001b[43mregistry\u001b[49m\u001b[43m[\u001b[49m\u001b[43mname\u001b[49m\u001b[43m]\u001b[49m\u001b[38;5;241;43m.\u001b[39;49m\u001b[43mlower\u001b[49m\u001b[43m(\u001b[49m\u001b[38;5;28;43mself\u001b[39;49m\u001b[43m,\u001b[49m\u001b[43m \u001b[49m\u001b[43mnode\u001b[49m\u001b[43m)\u001b[49m\n\u001b[1;32m    111\u001b[0m \u001b[38;5;28;01melif\u001b[39;00m \u001b[38;5;28misinstance\u001b[39m(node, ast\u001b[38;5;241m.\u001b[39mCall):\n\u001b[1;32m    112\u001b[0m     \u001b[38;5;66;03m# NOTE: if lower_Call is implemented,\u001b[39;00m\n\u001b[1;32m    113\u001b[0m     \u001b[38;5;66;03m# it will be called first before __dispatch_Call\u001b[39;00m\n\u001b[1;32m    114\u001b[0m     \u001b[38;5;66;03m# because \"Call\" exists in self.registry\u001b[39;00m\n\u001b[1;32m    115\u001b[0m     \u001b[38;5;28;01mreturn\u001b[39;00m \u001b[38;5;28mself\u001b[39m\u001b[38;5;241m.\u001b[39m__dispatch_Call(node)\n",
      "File \u001b[0;32m~/.qbraid/environments/querai_uzkoe7/pyenv/lib/python3.11/site-packages/kirin/lowering/dialect.py:26\u001b[0m, in \u001b[0;36mFromPythonAST.lower\u001b[0;34m(self, state, node)\u001b[0m\n\u001b[1;32m     24\u001b[0m \u001b[38;5;28;01mdef\u001b[39;00m \u001b[38;5;21mlower\u001b[39m(\u001b[38;5;28mself\u001b[39m, state: LoweringState, node: ast\u001b[38;5;241m.\u001b[39mAST) \u001b[38;5;241m-\u001b[39m\u001b[38;5;241m>\u001b[39m Result:\n\u001b[1;32m     25\u001b[0m \u001b[38;5;250m    \u001b[39m\u001b[38;5;124;03m\"\"\"Entry point of dialect specific lowering.\"\"\"\u001b[39;00m\n\u001b[0;32m---> 26\u001b[0m     \u001b[38;5;28;01mreturn\u001b[39;00m \u001b[38;5;28;43mgetattr\u001b[39;49m\u001b[43m(\u001b[49m\u001b[38;5;28;43mself\u001b[39;49m\u001b[43m,\u001b[49m\u001b[43m \u001b[49m\u001b[38;5;124;43mf\u001b[39;49m\u001b[38;5;124;43m\"\u001b[39;49m\u001b[38;5;124;43mlower_\u001b[39;49m\u001b[38;5;132;43;01m{\u001b[39;49;00m\u001b[43mnode\u001b[49m\u001b[38;5;241;43m.\u001b[39;49m\u001b[38;5;18;43m__class__\u001b[39;49m\u001b[38;5;241;43m.\u001b[39;49m\u001b[38;5;18;43m__name__\u001b[39;49m\u001b[38;5;132;43;01m}\u001b[39;49;00m\u001b[38;5;124;43m\"\u001b[39;49m\u001b[43m,\u001b[49m\u001b[43m \u001b[49m\u001b[38;5;28;43mself\u001b[39;49m\u001b[38;5;241;43m.\u001b[39;49m\u001b[43munreachable\u001b[49m\u001b[43m)\u001b[49m\u001b[43m(\u001b[49m\n\u001b[1;32m     27\u001b[0m \u001b[43m        \u001b[49m\u001b[43mstate\u001b[49m\u001b[43m,\u001b[49m\u001b[43m \u001b[49m\u001b[43mnode\u001b[49m\n\u001b[1;32m     28\u001b[0m \u001b[43m    \u001b[49m\u001b[43m)\u001b[49m\n",
      "File \u001b[0;32m~/.qbraid/environments/querai_uzkoe7/pyenv/lib/python3.11/site-packages/kirin/dialects/py/base.py:34\u001b[0m, in \u001b[0;36mPythonLowering.lower_Expr\u001b[0;34m(self, state, node)\u001b[0m\n\u001b[1;32m     31\u001b[0m \u001b[38;5;28;01mdef\u001b[39;00m \u001b[38;5;21mlower_Expr\u001b[39m(\n\u001b[1;32m     32\u001b[0m     \u001b[38;5;28mself\u001b[39m, state: lowering\u001b[38;5;241m.\u001b[39mLoweringState, node: ast\u001b[38;5;241m.\u001b[39mExpr\n\u001b[1;32m     33\u001b[0m ) \u001b[38;5;241m-\u001b[39m\u001b[38;5;241m>\u001b[39m lowering\u001b[38;5;241m.\u001b[39mResult:\n\u001b[0;32m---> 34\u001b[0m     \u001b[38;5;28;01mreturn\u001b[39;00m \u001b[43mstate\u001b[49m\u001b[38;5;241;43m.\u001b[39;49m\u001b[43mvisit\u001b[49m\u001b[43m(\u001b[49m\u001b[43mnode\u001b[49m\u001b[38;5;241;43m.\u001b[39;49m\u001b[43mvalue\u001b[49m\u001b[43m)\u001b[49m\n",
      "File \u001b[0;32m~/.qbraid/environments/querai_uzkoe7/pyenv/lib/python3.11/site-packages/kirin/lowering/state.py:115\u001b[0m, in \u001b[0;36mLoweringState.visit\u001b[0;34m(self, node)\u001b[0m\n\u001b[1;32m    110\u001b[0m     \u001b[38;5;28;01mreturn\u001b[39;00m \u001b[38;5;28mself\u001b[39m\u001b[38;5;241m.\u001b[39mregistry[name]\u001b[38;5;241m.\u001b[39mlower(\u001b[38;5;28mself\u001b[39m, node)\n\u001b[1;32m    111\u001b[0m \u001b[38;5;28;01melif\u001b[39;00m \u001b[38;5;28misinstance\u001b[39m(node, ast\u001b[38;5;241m.\u001b[39mCall):\n\u001b[1;32m    112\u001b[0m     \u001b[38;5;66;03m# NOTE: if lower_Call is implemented,\u001b[39;00m\n\u001b[1;32m    113\u001b[0m     \u001b[38;5;66;03m# it will be called first before __dispatch_Call\u001b[39;00m\n\u001b[1;32m    114\u001b[0m     \u001b[38;5;66;03m# because \"Call\" exists in self.registry\u001b[39;00m\n\u001b[0;32m--> 115\u001b[0m     \u001b[38;5;28;01mreturn\u001b[39;00m \u001b[38;5;28;43mself\u001b[39;49m\u001b[38;5;241;43m.\u001b[39;49m\u001b[43m__dispatch_Call\u001b[49m\u001b[43m(\u001b[49m\u001b[43mnode\u001b[49m\u001b[43m)\u001b[49m\n\u001b[1;32m    116\u001b[0m \u001b[38;5;28;01melif\u001b[39;00m \u001b[38;5;28misinstance\u001b[39m(node, ast\u001b[38;5;241m.\u001b[39mWith):\n\u001b[1;32m    117\u001b[0m     \u001b[38;5;28;01mreturn\u001b[39;00m \u001b[38;5;28mself\u001b[39m\u001b[38;5;241m.\u001b[39m__dispatch_With(node)\n",
      "File \u001b[0;32m~/.qbraid/environments/querai_uzkoe7/pyenv/lib/python3.11/site-packages/kirin/lowering/state.py:153\u001b[0m, in \u001b[0;36mLoweringState.__dispatch_Call\u001b[0;34m(self, node)\u001b[0m\n\u001b[1;32m    151\u001b[0m global_callee_result \u001b[38;5;241m=\u001b[39m \u001b[38;5;28mself\u001b[39m\u001b[38;5;241m.\u001b[39mget_global_nothrow(node\u001b[38;5;241m.\u001b[39mfunc)\n\u001b[1;32m    152\u001b[0m \u001b[38;5;28;01mif\u001b[39;00m global_callee_result \u001b[38;5;129;01mis\u001b[39;00m \u001b[38;5;28;01mNone\u001b[39;00m:  \u001b[38;5;66;03m# not found in globals, has to be local\u001b[39;00m\n\u001b[0;32m--> 153\u001b[0m     \u001b[38;5;28;01mreturn\u001b[39;00m \u001b[38;5;28;43mself\u001b[39;49m\u001b[38;5;241;43m.\u001b[39;49m\u001b[43m__lower_Call_local\u001b[49m\u001b[43m(\u001b[49m\u001b[43mnode\u001b[49m\u001b[43m)\u001b[49m\n\u001b[1;32m    155\u001b[0m global_callee \u001b[38;5;241m=\u001b[39m global_callee_result\u001b[38;5;241m.\u001b[39munwrap()\n\u001b[1;32m    156\u001b[0m \u001b[38;5;28;01mif\u001b[39;00m \u001b[38;5;28misinstance\u001b[39m(global_callee, Binding):\n",
      "File \u001b[0;32m~/.qbraid/environments/querai_uzkoe7/pyenv/lib/python3.11/site-packages/kirin/lowering/state.py:225\u001b[0m, in \u001b[0;36mLoweringState.__lower_Call_local\u001b[0;34m(self, node)\u001b[0m\n\u001b[1;32m    224\u001b[0m \u001b[38;5;28;01mdef\u001b[39;00m \u001b[38;5;21m__lower_Call_local\u001b[39m(\u001b[38;5;28mself\u001b[39m, node: ast\u001b[38;5;241m.\u001b[39mCall) \u001b[38;5;241m-\u001b[39m\u001b[38;5;241m>\u001b[39m Result:\n\u001b[0;32m--> 225\u001b[0m     callee \u001b[38;5;241m=\u001b[39m \u001b[38;5;28;43mself\u001b[39;49m\u001b[38;5;241;43m.\u001b[39;49m\u001b[43mvisit\u001b[49m\u001b[43m(\u001b[49m\u001b[43mnode\u001b[49m\u001b[38;5;241;43m.\u001b[39;49m\u001b[43mfunc\u001b[49m\u001b[43m)\u001b[49m\u001b[38;5;241m.\u001b[39mexpect_one()\n\u001b[1;32m    226\u001b[0m     \u001b[38;5;28;01mif\u001b[39;00m \u001b[38;5;124m\"\u001b[39m\u001b[38;5;124mCall_local\u001b[39m\u001b[38;5;124m\"\u001b[39m \u001b[38;5;129;01min\u001b[39;00m \u001b[38;5;28mself\u001b[39m\u001b[38;5;241m.\u001b[39mregistry:\n\u001b[1;32m    227\u001b[0m         \u001b[38;5;28;01mreturn\u001b[39;00m \u001b[38;5;28mself\u001b[39m\u001b[38;5;241m.\u001b[39mregistry[\u001b[38;5;124m\"\u001b[39m\u001b[38;5;124mCall_local\u001b[39m\u001b[38;5;124m\"\u001b[39m]\u001b[38;5;241m.\u001b[39mlower_Call_local(\u001b[38;5;28mself\u001b[39m, callee, node)\n",
      "File \u001b[0;32m~/.qbraid/environments/querai_uzkoe7/pyenv/lib/python3.11/site-packages/kirin/lowering/state.py:110\u001b[0m, in \u001b[0;36mLoweringState.visit\u001b[0;34m(self, node)\u001b[0m\n\u001b[1;32m    108\u001b[0m name \u001b[38;5;241m=\u001b[39m node\u001b[38;5;241m.\u001b[39m\u001b[38;5;18m__class__\u001b[39m\u001b[38;5;241m.\u001b[39m\u001b[38;5;18m__name__\u001b[39m\n\u001b[1;32m    109\u001b[0m \u001b[38;5;28;01mif\u001b[39;00m name \u001b[38;5;129;01min\u001b[39;00m \u001b[38;5;28mself\u001b[39m\u001b[38;5;241m.\u001b[39mregistry:\n\u001b[0;32m--> 110\u001b[0m     \u001b[38;5;28;01mreturn\u001b[39;00m \u001b[38;5;28;43mself\u001b[39;49m\u001b[38;5;241;43m.\u001b[39;49m\u001b[43mregistry\u001b[49m\u001b[43m[\u001b[49m\u001b[43mname\u001b[49m\u001b[43m]\u001b[49m\u001b[38;5;241;43m.\u001b[39;49m\u001b[43mlower\u001b[49m\u001b[43m(\u001b[49m\u001b[38;5;28;43mself\u001b[39;49m\u001b[43m,\u001b[49m\u001b[43m \u001b[49m\u001b[43mnode\u001b[49m\u001b[43m)\u001b[49m\n\u001b[1;32m    111\u001b[0m \u001b[38;5;28;01melif\u001b[39;00m \u001b[38;5;28misinstance\u001b[39m(node, ast\u001b[38;5;241m.\u001b[39mCall):\n\u001b[1;32m    112\u001b[0m     \u001b[38;5;66;03m# NOTE: if lower_Call is implemented,\u001b[39;00m\n\u001b[1;32m    113\u001b[0m     \u001b[38;5;66;03m# it will be called first before __dispatch_Call\u001b[39;00m\n\u001b[1;32m    114\u001b[0m     \u001b[38;5;66;03m# because \"Call\" exists in self.registry\u001b[39;00m\n\u001b[1;32m    115\u001b[0m     \u001b[38;5;28;01mreturn\u001b[39;00m \u001b[38;5;28mself\u001b[39m\u001b[38;5;241m.\u001b[39m__dispatch_Call(node)\n",
      "File \u001b[0;32m~/.qbraid/environments/querai_uzkoe7/pyenv/lib/python3.11/site-packages/kirin/lowering/dialect.py:26\u001b[0m, in \u001b[0;36mFromPythonAST.lower\u001b[0;34m(self, state, node)\u001b[0m\n\u001b[1;32m     24\u001b[0m \u001b[38;5;28;01mdef\u001b[39;00m \u001b[38;5;21mlower\u001b[39m(\u001b[38;5;28mself\u001b[39m, state: LoweringState, node: ast\u001b[38;5;241m.\u001b[39mAST) \u001b[38;5;241m-\u001b[39m\u001b[38;5;241m>\u001b[39m Result:\n\u001b[1;32m     25\u001b[0m \u001b[38;5;250m    \u001b[39m\u001b[38;5;124;03m\"\"\"Entry point of dialect specific lowering.\"\"\"\u001b[39;00m\n\u001b[0;32m---> 26\u001b[0m     \u001b[38;5;28;01mreturn\u001b[39;00m \u001b[38;5;28;43mgetattr\u001b[39;49m\u001b[43m(\u001b[49m\u001b[38;5;28;43mself\u001b[39;49m\u001b[43m,\u001b[49m\u001b[43m \u001b[49m\u001b[38;5;124;43mf\u001b[39;49m\u001b[38;5;124;43m\"\u001b[39;49m\u001b[38;5;124;43mlower_\u001b[39;49m\u001b[38;5;132;43;01m{\u001b[39;49;00m\u001b[43mnode\u001b[49m\u001b[38;5;241;43m.\u001b[39;49m\u001b[38;5;18;43m__class__\u001b[39;49m\u001b[38;5;241;43m.\u001b[39;49m\u001b[38;5;18;43m__name__\u001b[39;49m\u001b[38;5;132;43;01m}\u001b[39;49;00m\u001b[38;5;124;43m\"\u001b[39;49m\u001b[43m,\u001b[49m\u001b[43m \u001b[49m\u001b[38;5;28;43mself\u001b[39;49m\u001b[38;5;241;43m.\u001b[39;49m\u001b[43munreachable\u001b[49m\u001b[43m)\u001b[49m\u001b[43m(\u001b[49m\n\u001b[1;32m     27\u001b[0m \u001b[43m        \u001b[49m\u001b[43mstate\u001b[49m\u001b[43m,\u001b[49m\u001b[43m \u001b[49m\u001b[43mnode\u001b[49m\n\u001b[1;32m     28\u001b[0m \u001b[43m    \u001b[49m\u001b[43m)\u001b[49m\n",
      "File \u001b[0;32m~/.qbraid/environments/querai_uzkoe7/pyenv/lib/python3.11/site-packages/kirin/dialects/py/base.py:24\u001b[0m, in \u001b[0;36mPythonLowering.lower_Name\u001b[0;34m(self, state, node)\u001b[0m\n\u001b[1;32m     22\u001b[0m     value \u001b[38;5;241m=\u001b[39m state\u001b[38;5;241m.\u001b[39mcurrent_frame\u001b[38;5;241m.\u001b[39mget(name)\n\u001b[1;32m     23\u001b[0m     \u001b[38;5;28;01mif\u001b[39;00m value \u001b[38;5;129;01mis\u001b[39;00m \u001b[38;5;28;01mNone\u001b[39;00m:\n\u001b[0;32m---> 24\u001b[0m         \u001b[38;5;28;01mraise\u001b[39;00m exceptions\u001b[38;5;241m.\u001b[39mDialectLoweringError(\u001b[38;5;124mf\u001b[39m\u001b[38;5;124m\"\u001b[39m\u001b[38;5;132;01m{\u001b[39;00mname\u001b[38;5;132;01m}\u001b[39;00m\u001b[38;5;124m is not defined\u001b[39m\u001b[38;5;124m\"\u001b[39m)\n\u001b[1;32m     25\u001b[0m     \u001b[38;5;28;01mreturn\u001b[39;00m lowering\u001b[38;5;241m.\u001b[39mResult(value)\n\u001b[1;32m     26\u001b[0m \u001b[38;5;28;01melif\u001b[39;00m \u001b[38;5;28misinstance\u001b[39m(node\u001b[38;5;241m.\u001b[39mctx, ast\u001b[38;5;241m.\u001b[39mStore):\n",
      "\u001b[0;31mDialectLoweringError\u001b[0m: answer_1a is not defined\n\n@move.vmove\ndef main():\n    answer_1a()\n----^\n    move.Execute(state)\n"
     ]
    }
   ],
   "source": [
    "@move.vmove\n",
    "def main():\n",
    "    answer_1a()\n",
    "    move.Execute(state)"
   ]
  },
  {
   "cell_type": "code",
   "execution_count": null,
   "id": "bbbd508c-a3f6-4082-b24b-5b376331e992",
   "metadata": {},
   "outputs": [],
   "source": [
    "@move.vmove()\n",
    "def execute(state:move.core.AtomState):\n",
    "    move.Execute(state)"
   ]
  },
  {
   "cell_type": "code",
   "execution_count": null,
   "id": "5841092b-15a0-409e-859b-a9b0d7da95f9",
   "metadata": {},
   "outputs": [],
   "source": [
    "# The expected qasm code for the solution\n",
    "expected_qasm = \"\"\"\n",
    "\"\"\""
   ]
  },
  {
   "cell_type": "code",
   "execution_count": null,
   "id": "ba371df1-97d5-4f0a-a840-63aa4f56973e",
   "metadata": {},
   "outputs": [],
   "source": [
    "# run any extra compiler passes here\n",
    "# NOTE: make sure you inline any subroutine invocations before running the scorer\n",
    "#       Look at the examples to see how to do this."
   ]
  },
  {
   "cell_type": "code",
   "execution_count": null,
   "id": "436d35cb-2a8f-4ec3-9b89-37f2f75a555c",
   "metadata": {
    "scrolled": true
   },
   "outputs": [],
   "source": [
    "scorer = MoveScorer(main, expected_qasm)\n",
    "score = scorer.score()\n",
    "print(score)"
   ]
  },
  {
   "cell_type": "code",
   "execution_count": null,
   "id": "7ee6c460-1da1-4833-bdf0-b350de40cae1",
   "metadata": {},
   "outputs": [],
   "source": []
  }
 ],
 "metadata": {
  "kernelspec": {
   "display_name": "Python 3 [QuEra]",
   "language": "python",
   "name": "python3_querai_uzkoe7"
  },
  "language_info": {
   "codemirror_mode": {
    "name": "ipython",
    "version": 3
   },
   "file_extension": ".py",
   "mimetype": "text/x-python",
   "name": "python",
   "nbconvert_exporter": "python",
   "pygments_lexer": "ipython3",
   "version": "3.11.9"
  }
 },
 "nbformat": 4,
 "nbformat_minor": 5
}
