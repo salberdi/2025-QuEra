{
 "cells": [
  {
   "cell_type": "code",
   "execution_count": 3,
   "id": "97438016-5b3e-4af6-b092-15997d6b2b74",
   "metadata": {},
   "outputs": [],
   "source": [
    "from bloqade import move\n",
    "from numpy import pi"
   ]
  },
  {
   "cell_type": "code",
   "execution_count": 5,
   "id": "d041030b-a171-4f14-bfec-21a07adbf55c",
   "metadata": {},
   "outputs": [],
   "source": [
    "def global_H(state:move.core.AtomState):\n",
    "    state = move.GlobalXY(atom_state=state,x_exponent=-pi/2,axis_phase_exponent=1.0)\n",
    "    state = move.GlobalXY(atom_state=state,x_exponent=pi,axis_phase_exponent=0.0)\n",
    "    return state"
   ]
  },
  {
   "cell_type": "code",
   "execution_count": 6,
   "id": "6a055903-99b2-477b-be43-0f140fe89b87",
   "metadata": {},
   "outputs": [],
   "source": [
    "def local_H(state:move.core.AtomState, indices):\n",
    "    state = move.LobalXY(atom_state=state,x_exponent=-pi/2,axis_phase_exponent=1.0,indices=indices)\n",
    "    state = move.LocalXY(atom_state=state,x_exponent=pi,axis_phase_exponent=0.0,indices=indices)\n",
    "    return state"
   ]
  },
  {
   "cell_type": "code",
   "execution_count": 7,
   "id": "72b43a69-0eca-4a97-94b0-8078b4fe56dc",
   "metadata": {},
   "outputs": [],
   "source": [
    "def local_CX(state:move.core.AtomState,target_indices):\n",
    "    state = local_H(atom_state=state,indices=[target_indices])\n",
    "    state = move.GlobalCZ(atom_state=state)\n",
    "    state = local_H(atom_state=state,indices=[target_indices])\n",
    "    return state"
   ]
  },
  {
   "cell_type": "code",
   "execution_count": null,
   "id": "63dd6ffc-e33e-438c-b6aa-2712bea51a94",
   "metadata": {},
   "outputs": [],
   "source": []
  }
 ],
 "metadata": {
  "kernelspec": {
   "display_name": "Python 3 [QuEra]",
   "language": "python",
   "name": "python3_querai_uzkoe7"
  },
  "language_info": {
   "codemirror_mode": {
    "name": "ipython",
    "version": 3
   },
   "file_extension": ".py",
   "mimetype": "text/x-python",
   "name": "python",
   "nbconvert_exporter": "python",
   "pygments_lexer": "ipython3",
   "version": "3.11.9"
  }
 },
 "nbformat": 4,
 "nbformat_minor": 5
}
