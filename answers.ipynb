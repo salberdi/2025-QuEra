{
 "cells": [
  {
   "cell_type": "code",
   "execution_count": 8,
   "id": "7e004bd8-ed60-42b4-99ae-dec4c6cd2ec6",
   "metadata": {},
   "outputs": [],
   "source": [
    "from bloqade import move\n",
    "from helper_functions import *"
   ]
  },
  {
   "cell_type": "code",
   "execution_count": null,
   "id": "3317dd61-1a8f-486f-a032-776ced26dfc4",
   "metadata": {},
   "outputs": [],
   "source": [
    "def main():\n",
    "    q = move.NewQubitRegister(3)\n",
    "\n",
    "    state = move.Init(qubits=[q[0],q[1],q[2]], indices=[0,4,10])\n",
    "    state.gate[[0,1]] = move.Move(state.storage[[0,4]])\n",
    "    state = move.GlobalCZ(atom_state=state)\n",
    "    state.storage[[0]] = move.Move(state.gate[[0])\n",
    "    state.gate[[2]] = move.Move(state.storage[[10]])\n",
    "    state.global\n",
    "    move.Execute(state)"
   ]
  }
 ],
 "metadata": {
  "kernelspec": {
   "display_name": "Python 3 [QuEra]",
   "language": "python",
   "name": "python3_querai_uzkoe7"
  },
  "language_info": {
   "codemirror_mode": {
    "name": "ipython",
    "version": 3
   },
   "file_extension": ".py",
   "mimetype": "text/x-python",
   "name": "python",
   "nbconvert_exporter": "python",
   "pygments_lexer": "ipython3",
   "version": "3.11.9"
  }
 },
 "nbformat": 4,
 "nbformat_minor": 5
}
