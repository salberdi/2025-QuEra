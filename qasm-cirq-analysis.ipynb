{
 "cells": [
  {
   "cell_type": "code",
   "execution_count": 127,
   "id": "0c97fe2c-0c12-43d8-99d8-0dcb6fa4af8d",
   "metadata": {},
   "outputs": [],
   "source": [
    "from iquhack_scoring import MoveScorer\n",
    "from bloqade import move\n",
    "from matplotlib.animation import FuncAnimation, PillowWriter\n",
    "from numpy import pi\n",
    "from helper_functions import *\n",
    "from answers import *\n",
    "import numpy as np\n",
    "import cirq\n",
    "from cirq.contrib.qasm_import import circuit_from_qasm\n",
    "import re"
   ]
  },
  {
   "cell_type": "code",
   "execution_count": 5,
   "id": "21c8813d-2e6f-4c42-900e-eb2f6c669792",
   "metadata": {},
   "outputs": [],
   "source": [
    "f_name = \"QAOA_qasm_str.txt\"\n",
    "with open(f_name, \"r\") as f:\n",
    "    prog = f.read()\n",
    "# print(prog)"
   ]
  },
  {
   "cell_type": "code",
   "execution_count": 6,
   "id": "6f7e3287-a56f-4b79-a4c9-595a0b3c8f21",
   "metadata": {},
   "outputs": [],
   "source": [
    "circ = circuit_from_qasm(prog)"
   ]
  },
  {
   "cell_type": "code",
   "execution_count": 145,
   "id": "fff1d1fc-a3cd-413d-b790-83324d5103b7",
   "metadata": {},
   "outputs": [],
   "source": [
    "def storage_to_gate(start:list[int],end:list[int]):\n",
    "    @move.vmove()\n",
    "    def kernel(state:move.core.AtomState):\n",
    "        state.gate[end] = move.Move(state.storage[start])\n",
    "        return state\n",
    "    return kernel\n",
    "\n",
    "def gate_to_storage(start:list[int],end:list[int]):\n",
    "    @move.vmove()\n",
    "    def kernel(state:move.core.AtomState):\n",
    "        state.storage[end] = move.Move(state.gate[start])\n",
    "        return state\n",
    "    return kernel\n",
    "\n",
    "def do_H(indices:list[int]):\n",
    "    @move.vmove()\n",
    "    def kernel(state:move.core.AtomState):\n",
    "        state = local_H(atom_state=state,indices=indices)\n",
    "        return state\n",
    "    return kernel\n",
    "\n",
    "def do_CX(target_indices:list[int]):\n",
    "    @move.vmove\n",
    "    def kernel(state:move.core.AtomState):\n",
    "        state = local_CX(atom_state=state,target_indices=target_indices)\n",
    "        return state\n",
    "    return kernel\n",
    "\n",
    "def do_U3(a:float, b:float, c:float, indices:list[int]):\n",
    "    @move.vmove\n",
    "    def kernel(state:move.core.AtomState):\n",
    "        state = move.LocalRz(atom_state=state, phi=a, indices=indices)\n",
    "        state = move.LocalXY(atom_state=state, x_exponent=b,axis_phase_exponent=0.5, indices=indices)\n",
    "        state = move.LocalRz(atom_state=state, phi=c, indices=indices)\n",
    "        return state\n",
    "    return kernel\n",
    "\n",
    "def do_CZ(target_indices:list[int]):\n",
    "    @move.vmove\n",
    "    def kernel(state:move.core.AtomState):\n",
    "        state = move.GlobalCZ(atom_state=state)\n",
    "        return state\n",
    "    return kernel\n",
    "\n",
    "def do_X(indices:list[int]):\n",
    "    @move.vmove\n",
    "    def kernel(state:move.core.AtomState):\n",
    "        state = move.LocalXY(atom_state=state,x_exponent=pi,axis_phase_exponent=0.0,indices=indices)\n",
    "        return state\n",
    "    return kernel\n",
    "\n",
    "def do_Y(indices:list[int]):\n",
    "    @move.vmove\n",
    "    def kernel(state:move.core.AtomState):\n",
    "        state = move.LocalXY(atom_state=state,x_exponent=pi,axis_phase_exponent=pi/2,indices=indices)\n",
    "        return state\n",
    "    return kernel\n",
    "\n",
    "def do_Z(indices:list[int]):\n",
    "    @move.vmove\n",
    "    def kernel(state:move.core.AtomState):\n",
    "        state = move.LocalRz(atom_state=state,phi=pi,indices=indices)\n",
    "        return state\n",
    "    return kernel\n",
    "\n",
    "def do_Rx(angle:float, indices:list[int]):\n",
    "    @move.vmove\n",
    "    def kernel(state:move.core.AtomState):\n",
    "        state = move.LocalXY(atom_state=state,x_exponent=angle,axis_phase_exponent=0.0,indices=indices)\n",
    "        return state\n",
    "    return kernel\n",
    "\n",
    "def do_Ry(angle:float, indices:list[int]):\n",
    "    @move.vmove\n",
    "    def kernel(state:move.core.AtomState):\n",
    "        state = move.LocalXY(atom_state=state,x_exponent=angle,axis_phase_exponent=pi/2,indices=indices)\n",
    "        return state\n",
    "    return kernel\n",
    "\n",
    "def do_Rz(angle:float, indices:list[int]):\n",
    "    @move.vmove\n",
    "    def kernel(state:move.core.AtomState):\n",
    "        state = move.LocalRz(atom_state=state,phi=angle,indices=indices)\n",
    "        return state\n",
    "    return kernel\n",
    "\n",
    "def do_S(indices:list[int]):\n",
    "    @move.vmove\n",
    "    def kernel(state:move.core.AtomState):\n",
    "        state = move.LocalRz(atom_state=state,phi=pi/2,indices=indices)\n",
    "        return state\n",
    "    return kernel\n",
    "\n",
    "def do_T(indices:list[int]):\n",
    "    @move.vmove\n",
    "    def kernel(state:move.core.AtomState):\n",
    "        state = move.LocalRz(atom_state=state,phi=pi/4,indices=indices)\n",
    "        return state\n",
    "    return kernel\n",
    "\n",
    "def do_sqrtX(indices:list[int], dag):\n",
    "    @move.vmove\n",
    "    def kernel(state:move.core.AtomState):\n",
    "        state = move.LocalXY(atom_state=state,x_exponent=pi/2 * (-1)**dag,axis_phase_exponent=0.0,indices=indices)\n",
    "        return state\n",
    "    return kernel\n",
    "\n",
    "def do_sqrtY(indices:list[int], dag):\n",
    "    @move.vmove\n",
    "    def kernel(state:move.core.AtomState):\n",
    "        state = move.LocalXY(atom_state=state,x_exponent=pi/2 * (-1)**dag,axis_phase_exponent=pi/2,indices=indices)\n",
    "        return state\n",
    "    return kernel"
   ]
  },
  {
   "cell_type": "code",
   "execution_count": 12,
   "id": "6fa995ef-c01a-490c-b955-0470e382b428",
   "metadata": {},
   "outputs": [
    {
     "name": "stdout",
     "output_type": "stream",
     "text": [
      "dict_keys(['_operations', '_sorted_operations', '_qubit_to_op', '_qubits', '_measurement_key_objs', '_control_keys'])\n"
     ]
    }
   ],
   "source": [
    "print(circ.moments[0].__dict__.keys())"
   ]
  },
  {
   "cell_type": "code",
   "execution_count": 22,
   "id": "ae972878-7e85-444c-acfe-4be044a9b457",
   "metadata": {},
   "outputs": [
    {
     "name": "stdout",
     "output_type": "stream",
     "text": [
      "H(q_0)\n"
     ]
    }
   ],
   "source": [
    "print(circ.moments[0].operations[0])"
   ]
  },
  {
   "cell_type": "code",
   "execution_count": 102,
   "id": "e411aeea-7535-4277-a6b2-4c327c736eeb",
   "metadata": {},
   "outputs": [
    {
     "name": "stdout",
     "output_type": "stream",
     "text": [
      "(cirq.NamedQubit('q_0'),)\n",
      "cirq.circuits.qasm_output.QasmUGate(theta=0.5, phi=0.0, lmda=0.25)\n"
     ]
    }
   ],
   "source": [
    "print(circ.moments[0].operations[0].qubits)\n",
    "print(str(circ.moments[1].operations[0].gate))"
   ]
  },
  {
   "cell_type": "code",
   "execution_count": 60,
   "id": "f984be08-afd1-4d08-873c-d0f8cb4c5a6c",
   "metadata": {},
   "outputs": [
    {
     "name": "stdout",
     "output_type": "stream",
     "text": [
      "0\n",
      "q_0\n"
     ]
    }
   ],
   "source": [
    "bit_num = int(circ.moments[3].operations[0].qubits[0].name[2:])\n",
    "print(bit_num)\n",
    "print(circ.moments[3].operations[0].qubits[0].name)"
   ]
  },
  {
   "cell_type": "code",
   "execution_count": 42,
   "id": "9629e461-56c9-47d5-9d17-bc05de9afcba",
   "metadata": {},
   "outputs": [
    {
     "name": "stdout",
     "output_type": "stream",
     "text": [
      "H(q_0)\n"
     ]
    }
   ],
   "source": [
    "print(circ.moments[0]._sorted_operations[0])"
   ]
  },
  {
   "cell_type": "code",
   "execution_count": 40,
   "id": "729db7d9-af6e-4915-8844-d7ca9c9c1fe3",
   "metadata": {},
   "outputs": [
    {
     "name": "stdout",
     "output_type": "stream",
     "text": [
      "dict_keys([cirq.NamedQubit('q_0'), cirq.NamedQubit('q_1')])\n"
     ]
    }
   ],
   "source": [
    "print(circ.moments[3]._qubit_to_op.keys())"
   ]
  },
  {
   "cell_type": "code",
   "execution_count": 96,
   "id": "e10f637b-abd8-4ea5-ae05-13bde66b40b2",
   "metadata": {},
   "outputs": [
    {
     "name": "stdout",
     "output_type": "stream",
     "text": [
      "4\n"
     ]
    }
   ],
   "source": [
    "n_qubits = len(circ.moments[0].qubits)\n",
    "print(n_qubits)\n",
    "qubit_indices = list(range(0, n_qubits))"
   ]
  },
  {
   "cell_type": "code",
   "execution_count": 136,
   "id": "645cf979-50c7-4b78-b429-60fc0af9a999",
   "metadata": {
    "scrolled": true
   },
   "outputs": [
    {
     "name": "stdout",
     "output_type": "stream",
     "text": [
      "0: op: H, qubits: [0, 1, 2, 3]\n",
      "1: op: cirq.circuits.qasm_output.QasmUGate(theta=0.5, phi=0.0, lmda=0.25), qubits: [0]\n",
      "2: op: cirq.circuits.qasm_output.QasmUGate(theta=0.5, phi=0.0, lmda=0.75), qubits: [1, 2, 3]\n",
      "3: op: X**0.5, qubits: [0]\n",
      "4: op: CNOT, qubits: [0, 1]\n",
      "5: op: Rx(0.4223785852π), qubits: [0]\n",
      "6: op: Ry(0.5π), qubits: [1]\n",
      "7: op: CNOT, qubits: [1, 0]\n",
      "8: op: X**-0.5, qubits: [1]\n",
      "9: op: S, qubits: [1]\n",
      "10: op: CNOT, qubits: [0, 1]\n",
      "11: op: cirq.circuits.qasm_output.QasmUGate(theta=0.5, phi=0.8276214148, lmda=1.0), qubits: [0]\n",
      "12: op: cirq.circuits.qasm_output.QasmUGate(theta=0.5, phi=0.3276214148, lmda=1.0), qubits: [1]\n",
      "13: op: cirq.circuits.qasm_output.QasmUGate(theta=0.5, phi=0.0, lmda=0.25), qubits: [0, 1]\n",
      "14: op: X**0.5, qubits: [0, 1]\n",
      "15: op: CNOT, qubits: [0, 3]\n",
      "16: op: Rx(0.4223785852π), qubits: [0]\n",
      "17: op: Ry(0.5π), qubits: [3]\n",
      "18: op: CNOT, qubits: [3, 0]\n",
      "19: op: X**-0.5, qubits: [3]\n",
      "20: op: S, qubits: [3]\n",
      "21: op: CNOT, qubits: [0, 3]\n",
      "22: op: cirq.circuits.qasm_output.QasmUGate(theta=0.5, phi=0.8276214148, lmda=1.0), qubits: [0]\n",
      "23: op: cirq.circuits.qasm_output.QasmUGate(theta=0.5, phi=0.3276214148, lmda=1.0), qubits: [3]\n",
      "24: op: cirq.circuits.qasm_output.QasmUGate(theta=0.5, phi=0.0, lmda=0.25), qubits: [0]\n",
      "25: op: cirq.circuits.qasm_output.QasmUGate(theta=0.5, phi=0.0, lmda=0.75), qubits: [3]\n",
      "26: op: X**0.5, qubits: [0]\n",
      "27: op: CNOT, qubits: [0, 2]\n",
      "28: op: Rx(0.4223785852π), qubits: [0]\n",
      "29: op: Ry(0.5π), qubits: [2]\n",
      "30: op: CNOT, qubits: [2, 0]\n",
      "31: op: X**-0.5, qubits: [2]\n",
      "32: op: S, qubits: [2]\n",
      "33: op: CNOT, qubits: [0, 2]\n",
      "34: op: cirq.circuits.qasm_output.QasmUGate(theta=0.5, phi=0.8276214148, lmda=1.0), qubits: [0]\n",
      "35: op: cirq.circuits.qasm_output.QasmUGate(theta=0.5, phi=0.3276214148, lmda=1.0), qubits: [2]\n",
      "36: op: cirq.circuits.qasm_output.QasmUGate(theta=0.5, phi=0.0, lmda=0.75), qubits: [2]\n",
      "37: op: Rx(0.1766811937π), qubits: [0]\n",
      "38: op: CNOT, qubits: [1, 2]\n",
      "39: op: cirq.circuits.qasm_output.QasmUGate(theta=0.5, phi=1.0, lmda=0.75), qubits: [0]\n",
      "40: op: Rx(0.4223785852π), qubits: [1]\n",
      "41: op: Ry(0.5π), qubits: [2]\n",
      "42: op: X**0.5, qubits: [0]\n",
      "43: op: CNOT, qubits: [2, 1]\n",
      "44: op: X**-0.5, qubits: [2]\n",
      "45: op: S, qubits: [2]\n",
      "46: op: CNOT, qubits: [1, 2]\n",
      "47: op: cirq.circuits.qasm_output.QasmUGate(theta=0.5, phi=0.8276214148, lmda=1.0), qubits: [1]\n",
      "48: op: cirq.circuits.qasm_output.QasmUGate(theta=0.5, phi=0.3276214148, lmda=1.0), qubits: [2]\n",
      "49: op: cirq.circuits.qasm_output.QasmUGate(theta=0.5, phi=0.0, lmda=0.25), qubits: [1, 2]\n",
      "50: op: X**0.5, qubits: [1, 2]\n",
      "51: op: CNOT, qubits: [1, 3]\n",
      "52: op: Rx(0.4223785852π), qubits: [1]\n",
      "53: op: Ry(0.5π), qubits: [3]\n",
      "54: op: CNOT, qubits: [3, 1]\n",
      "55: op: X**-0.5, qubits: [3]\n",
      "56: op: S, qubits: [3]\n",
      "57: op: CNOT, qubits: [1, 3]\n",
      "58: op: cirq.circuits.qasm_output.QasmUGate(theta=0.5, phi=0.8276214148, lmda=1.0), qubits: [1]\n",
      "59: op: cirq.circuits.qasm_output.QasmUGate(theta=0.5, phi=0.3276214148, lmda=1.0), qubits: [3]\n",
      "60: op: cirq.circuits.qasm_output.QasmUGate(theta=0.5, phi=0.0, lmda=0.75), qubits: [3]\n",
      "61: op: Rx(0.1766811937π), qubits: [1]\n",
      "62: op: CNOT, qubits: [2, 3]\n",
      "63: op: cirq.circuits.qasm_output.QasmUGate(theta=0.5, phi=1.0, lmda=1.25), qubits: [1]\n",
      "64: op: Rx(0.4223785852π), qubits: [2]\n",
      "65: op: Ry(0.5π), qubits: [3]\n",
      "66: op: CNOT, qubits: [0, 1]\n",
      "67: op: CNOT, qubits: [3, 2]\n",
      "68: op: Rx(0.3570808194π), qubits: [0]\n",
      "69: op: Ry(0.5π), qubits: [1]\n",
      "70: op: X**-0.5, qubits: [3]\n",
      "71: op: CNOT, qubits: [1, 0]\n",
      "72: op: S, qubits: [3]\n",
      "73: op: X**-0.5, qubits: [1]\n",
      "74: op: CNOT, qubits: [2, 3]\n",
      "75: op: S, qubits: [1]\n",
      "76: op: cirq.circuits.qasm_output.QasmUGate(theta=0.5, phi=0.8276214148, lmda=1.0), qubits: [2]\n",
      "77: op: cirq.circuits.qasm_output.QasmUGate(theta=0.5, phi=0.3276214148, lmda=1.0), qubits: [3]\n",
      "78: op: CNOT, qubits: [0, 1]\n",
      "79: op: Rx(0.1766811937π), qubits: [2, 3]\n",
      "80: op: cirq.circuits.qasm_output.QasmUGate(theta=0.5, phi=0.3929191806, lmda=0.0), qubits: [0]\n",
      "81: op: cirq.circuits.qasm_output.QasmUGate(theta=0.5, phi=1.8929191806, lmda=0.0), qubits: [1]\n",
      "82: op: cirq.circuits.qasm_output.QasmUGate(theta=0.5, phi=1.0, lmda=0.75), qubits: [0, 1]\n",
      "83: op: cirq.circuits.qasm_output.QasmUGate(theta=0.5, phi=1.0, lmda=1.25), qubits: [2, 3]\n",
      "84: op: X**0.5, qubits: [0, 1]\n",
      "85: op: CNOT, qubits: [0, 3]\n",
      "86: op: Rx(0.3570808194π), qubits: [0]\n",
      "87: op: Ry(0.5π), qubits: [3]\n",
      "88: op: CNOT, qubits: [3, 0]\n",
      "89: op: X**-0.5, qubits: [3]\n",
      "90: op: S, qubits: [3]\n",
      "91: op: CNOT, qubits: [0, 3]\n",
      "92: op: cirq.circuits.qasm_output.QasmUGate(theta=0.5, phi=0.3929191806, lmda=0.0), qubits: [0]\n",
      "93: op: cirq.circuits.qasm_output.QasmUGate(theta=0.5, phi=1.8929191806, lmda=0.0), qubits: [3]\n",
      "94: op: cirq.circuits.qasm_output.QasmUGate(theta=0.5, phi=1.0, lmda=0.75), qubits: [0]\n",
      "95: op: cirq.circuits.qasm_output.QasmUGate(theta=0.5, phi=1.0, lmda=1.25), qubits: [3]\n",
      "96: op: X**0.5, qubits: [0]\n",
      "97: op: CNOT, qubits: [0, 2]\n",
      "98: op: Rx(0.3570808194π), qubits: [0]\n",
      "99: op: Ry(0.5π), qubits: [2]\n",
      "100: op: CNOT, qubits: [2, 0]\n",
      "101: op: X**-0.5, qubits: [2]\n",
      "102: op: S, qubits: [2]\n",
      "103: op: CNOT, qubits: [0, 2]\n",
      "104: op: cirq.circuits.qasm_output.QasmUGate(theta=0.5, phi=0.3929191806, lmda=0.0), qubits: [0]\n",
      "105: op: cirq.circuits.qasm_output.QasmUGate(theta=0.5, phi=1.8929191806, lmda=0.0), qubits: [2]\n",
      "106: op: cirq.circuits.qasm_output.QasmUGate(theta=0.5, phi=1.0, lmda=1.25), qubits: [2]\n",
      "107: op: Rx(0.0931081293π), qubits: [0]\n",
      "108: op: CNOT, qubits: [1, 2]\n",
      "109: op: Rx(0.3570808194π), qubits: [1]\n",
      "110: op: Ry(0.5π), qubits: [2]\n",
      "111: op: CNOT, qubits: [2, 1]\n",
      "112: op: X**-0.5, qubits: [2]\n",
      "113: op: S, qubits: [2]\n",
      "114: op: CNOT, qubits: [1, 2]\n",
      "115: op: cirq.circuits.qasm_output.QasmUGate(theta=0.5, phi=0.3929191806, lmda=0.0), qubits: [1]\n",
      "116: op: cirq.circuits.qasm_output.QasmUGate(theta=0.5, phi=1.8929191806, lmda=0.0), qubits: [2]\n",
      "117: op: cirq.circuits.qasm_output.QasmUGate(theta=0.5, phi=1.0, lmda=0.75), qubits: [1, 2]\n",
      "118: op: X**0.5, qubits: [1, 2]\n",
      "119: op: CNOT, qubits: [1, 3]\n",
      "120: op: Rx(0.3570808194π), qubits: [1]\n",
      "121: op: Ry(0.5π), qubits: [3]\n",
      "122: op: CNOT, qubits: [3, 1]\n",
      "123: op: X**-0.5, qubits: [3]\n",
      "124: op: S, qubits: [3]\n",
      "125: op: CNOT, qubits: [1, 3]\n",
      "126: op: cirq.circuits.qasm_output.QasmUGate(theta=0.5, phi=0.3929191806, lmda=0.0), qubits: [1]\n",
      "127: op: cirq.circuits.qasm_output.QasmUGate(theta=0.5, phi=1.8929191806, lmda=0.0), qubits: [3]\n",
      "128: op: cirq.circuits.qasm_output.QasmUGate(theta=0.5, phi=1.0, lmda=1.25), qubits: [3]\n",
      "129: op: Rx(0.0931081293π), qubits: [1]\n",
      "130: op: CNOT, qubits: [2, 3]\n",
      "131: op: Rx(0.3570808194π), qubits: [2]\n",
      "132: op: Ry(0.5π), qubits: [3]\n",
      "133: op: CNOT, qubits: [3, 2]\n",
      "134: op: X**-0.5, qubits: [3]\n",
      "135: op: S, qubits: [3]\n",
      "136: op: CNOT, qubits: [2, 3]\n",
      "137: op: cirq.circuits.qasm_output.QasmUGate(theta=0.5, phi=0.3929191806, lmda=0.0), qubits: [2]\n",
      "138: op: cirq.circuits.qasm_output.QasmUGate(theta=0.5, phi=1.8929191806, lmda=0.0), qubits: [3]\n",
      "139: op: Rx(0.0931081293π), qubits: [2, 3]\n"
     ]
    }
   ],
   "source": [
    "do_print = True\n",
    "\n",
    "all_moment_ops = []\n",
    "all_op_qubits = []\n",
    "for i, moment in enumerate(circ.moments):\n",
    "    # names of operators\n",
    "    moment_ops = []\n",
    "    # numbers of qubits corresponding to moment_ops\n",
    "    op_qubits = [[] for i in range(n_qubits)]\n",
    "    # op_qubits = np.zeros((len(moment.operations), 0))\n",
    "    # loops through all operators\n",
    "    for j, op1 in enumerate(moment.operations):\n",
    "        # if operator is not in moment_ops, add it and add self to op_qubits, else, add self to op_qubits\n",
    "        if str(op1.gate) not in moment_ops:\n",
    "            moment_ops.append(str(op1.gate))\n",
    "        for k, qubit in enumerate(op1.qubits):\n",
    "            op_qubits[moment_ops.index(str(op1.gate))].append(int(qubit.name[2:]))\n",
    "\n",
    "    for j in range(len(moment_ops)):\n",
    "        all_moment_ops.append(moment_ops[j])\n",
    "        if moment_ops[j] == \"CNOT\":\n",
    "            all_op_qubits.append(op_qubits[j])\n",
    "        else:\n",
    "            op_qubits[j].sort()\n",
    "            all_op_qubits.append(op_qubits[j])\n",
    "\n",
    "if do_print:\n",
    "    for i in range(len(all_moment_ops)):\n",
    "        print(f'{i}: op: {all_moment_ops[i]}, qubits: {all_op_qubits[i]}')"
   ]
  },
  {
   "cell_type": "code",
   "execution_count": 146,
   "id": "533ac74b-e7b0-4fa8-9cf0-dc45b66e82b5",
   "metadata": {
    "scrolled": true
   },
   "outputs": [
    {
     "name": "stdout",
     "output_type": "stream",
     "text": [
      "[0, 1]\n",
      "[0, 1]\n",
      "[0, 1]\n",
      "[0, 1]\n",
      "[0, 1]\n",
      "[0, 1]\n",
      "[0, 3]\n",
      "[0, 3]\n",
      "[0, 3]\n",
      "[0, 3]\n",
      "[0, 3]\n",
      "[0, 3]\n",
      "[0, 2]\n",
      "[0, 2]\n",
      "[0, 2]\n",
      "[0, 2]\n",
      "[0, 2]\n",
      "[0, 2]\n",
      "[1, 2]\n",
      "[1, 2]\n",
      "[1, 2]\n",
      "[1, 2]\n",
      "[1, 2]\n",
      "[1, 2]\n",
      "[1, 3]\n",
      "[1, 3]\n",
      "[1, 3]\n",
      "[1, 3]\n",
      "[1, 3]\n",
      "[1, 3]\n",
      "[2, 3]\n",
      "[2, 3]\n",
      "[0, 1]\n",
      "[0, 1]\n",
      "[2, 3]\n",
      "[2, 3]\n",
      "[0, 1]\n",
      "[0, 1]\n",
      "[2, 3]\n",
      "[2, 3]\n",
      "[0, 1]\n",
      "[0, 1]\n",
      "[0, 3]\n",
      "[0, 3]\n",
      "[0, 3]\n",
      "[0, 3]\n",
      "[0, 3]\n",
      "[0, 3]\n",
      "[0, 2]\n",
      "[0, 2]\n",
      "[0, 2]\n",
      "[0, 2]\n",
      "[0, 2]\n",
      "[0, 2]\n",
      "[1, 2]\n",
      "[1, 2]\n",
      "[1, 2]\n",
      "[1, 2]\n",
      "[1, 2]\n",
      "[1, 2]\n",
      "[1, 3]\n",
      "[1, 3]\n",
      "[1, 3]\n",
      "[1, 3]\n",
      "[1, 3]\n",
      "[1, 3]\n",
      "[2, 3]\n",
      "[2, 3]\n",
      "[2, 3]\n",
      "[2, 3]\n",
      "[2, 3]\n",
      "[2, 3]\n"
     ]
    }
   ],
   "source": [
    "# This is the worst code I've ever written and I feel like throwing up just looking at it\n",
    "\n",
    "n_ops = len(all_moment_ops)\n",
    "na_ops = []\n",
    "for i, op in enumerate(all_moment_ops):\n",
    "\n",
    "    if op == \"CNOT\":\n",
    "        qbs = all_op_qubits[i]\n",
    "        qbs.sort()\n",
    "        na_ops.append(storage_to_gate(qbs, qbs))\n",
    "        print(qbs)\n",
    "        print(all_op_qubits[i])\n",
    "    else:\n",
    "        na_ops.append(storage_to_gate(all_op_qubits[i], all_op_qubits[i]))\n",
    "\n",
    "    if op == \"H\":\n",
    "        na_ops.append(do_H(indices=all_op_qubits[i]))\n",
    "    elif \"QasmUGate\" in op:\n",
    "        theta, phi, lmda = re.findall(r\"[-+]?(?:\\d*\\.*\\d+)\", op)\n",
    "        na_ops.append(do_U3(theta, phi, lmda, indices=all_op_qubits[i]))\n",
    "    elif op == \"CNOT\":\n",
    "        continue\n",
    "    elif op == \"X**0.5\":\n",
    "        na_ops.append(do_sqrtX(indices=all_op_qubits[i],dag=False))\n",
    "    elif op == \"X**-0.5\":\n",
    "        na_ops.append(do_sqrtX(indices=all_op_qubits[i],dag=True))\n",
    "    elif op == \"Y**0.5\":\n",
    "        na_ops.append(do_sqrtY(indices=all_op_qubits[i],dag=False))\n",
    "    elif op == \"Y**-0.5\":\n",
    "        na_ops.append(do_sqrtY(indices=all_op_qubits[i],dag=True))\n",
    "    elif op == \"S\":\n",
    "        na_ops.append(do_S(indices=all_op_qubits[i]))\n",
    "    elif op == \"T\":\n",
    "        na_ops.append(do_T(indices=all_op_qubits[i]))\n",
    "        \n",
    "    if op == \"CNOT\":\n",
    "        qbs = all_op_qubits[i]\n",
    "        qbs.sort()\n",
    "        na_ops.append(gate_to_storage(qbs, qbs))\n",
    "    else:\n",
    "        na_ops.append(gate_to_storage(all_op_qubits[i], all_op_qubits[i]))"
   ]
  },
  {
   "cell_type": "code",
   "execution_count": 125,
   "id": "965172ae-bbcb-4843-accc-b150ac52f8b2",
   "metadata": {},
   "outputs": [
    {
     "name": "stdout",
     "output_type": "stream",
     "text": [
      "[Method(\"kernel\"), Method(\"kernel\"), Method(\"kernel\"), Method(\"kernel\"), Method(\"kernel\"), Method(\"kernel\"), Method(\"kernel\"), Method(\"kernel\"), Method(\"kernel\"), Method(\"kernel\"), Method(\"kernel\"), Method(\"kernel\"), Method(\"kernel\"), Method(\"kernel\"), Method(\"kernel\"), Method(\"kernel\"), Method(\"kernel\"), Method(\"kernel\"), Method(\"kernel\"), Method(\"kernel\"), Method(\"kernel\"), Method(\"kernel\"), Method(\"kernel\"), Method(\"kernel\"), Method(\"kernel\"), Method(\"kernel\"), Method(\"kernel\"), Method(\"kernel\"), Method(\"kernel\"), Method(\"kernel\"), Method(\"kernel\"), Method(\"kernel\"), Method(\"kernel\"), Method(\"kernel\"), Method(\"kernel\"), Method(\"kernel\"), Method(\"kernel\"), Method(\"kernel\"), Method(\"kernel\"), Method(\"kernel\"), Method(\"kernel\"), Method(\"kernel\"), Method(\"kernel\"), Method(\"kernel\"), Method(\"kernel\"), Method(\"kernel\"), Method(\"kernel\"), Method(\"kernel\"), Method(\"kernel\"), Method(\"kernel\"), Method(\"kernel\"), Method(\"kernel\"), Method(\"kernel\"), Method(\"kernel\"), Method(\"kernel\"), Method(\"kernel\"), Method(\"kernel\"), Method(\"kernel\"), Method(\"kernel\"), Method(\"kernel\"), Method(\"kernel\"), Method(\"kernel\"), Method(\"kernel\"), Method(\"kernel\"), Method(\"kernel\"), Method(\"kernel\"), Method(\"kernel\"), Method(\"kernel\"), Method(\"kernel\"), Method(\"kernel\"), Method(\"kernel\"), Method(\"kernel\"), Method(\"kernel\"), Method(\"kernel\"), Method(\"kernel\"), Method(\"kernel\"), Method(\"kernel\"), Method(\"kernel\"), Method(\"kernel\"), Method(\"kernel\"), Method(\"kernel\"), Method(\"kernel\"), Method(\"kernel\"), Method(\"kernel\"), Method(\"kernel\"), Method(\"kernel\"), Method(\"kernel\"), Method(\"kernel\"), Method(\"kernel\"), Method(\"kernel\"), Method(\"kernel\"), Method(\"kernel\"), Method(\"kernel\"), Method(\"kernel\"), Method(\"kernel\"), Method(\"kernel\"), Method(\"kernel\"), Method(\"kernel\"), Method(\"kernel\"), Method(\"kernel\"), Method(\"kernel\"), Method(\"kernel\"), Method(\"kernel\"), Method(\"kernel\"), Method(\"kernel\"), Method(\"kernel\"), Method(\"kernel\"), Method(\"kernel\"), Method(\"kernel\"), Method(\"kernel\"), Method(\"kernel\"), Method(\"kernel\"), Method(\"kernel\"), Method(\"kernel\"), Method(\"kernel\"), Method(\"kernel\"), Method(\"kernel\"), Method(\"kernel\"), Method(\"kernel\"), Method(\"kernel\"), Method(\"kernel\"), Method(\"kernel\"), Method(\"kernel\"), Method(\"kernel\"), Method(\"kernel\"), Method(\"kernel\"), Method(\"kernel\"), Method(\"kernel\"), Method(\"kernel\"), Method(\"kernel\"), Method(\"kernel\"), Method(\"kernel\"), Method(\"kernel\"), Method(\"kernel\"), Method(\"kernel\"), Method(\"kernel\"), Method(\"kernel\"), Method(\"kernel\"), Method(\"kernel\"), Method(\"kernel\")]\n"
     ]
    }
   ],
   "source": [
    "print(na_ops)"
   ]
  },
  {
   "cell_type": "code",
   "execution_count": null,
   "id": "4c8cb153-4020-4d68-899e-ce26d96826f2",
   "metadata": {},
   "outputs": [],
   "source": []
  }
 ],
 "metadata": {
  "kernelspec": {
   "display_name": "Python 3 [QuEra]",
   "language": "python",
   "name": "python3_querai_uzkoe7"
  },
  "language_info": {
   "codemirror_mode": {
    "name": "ipython",
    "version": 3
   },
   "file_extension": ".py",
   "mimetype": "text/x-python",
   "name": "python",
   "nbconvert_exporter": "python",
   "pygments_lexer": "ipython3",
   "version": "3.11.9"
  }
 },
 "nbformat": 4,
 "nbformat_minor": 5
}
